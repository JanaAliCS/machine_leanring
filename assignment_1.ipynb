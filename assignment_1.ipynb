{
  "cells": [
    {
      "cell_type": "markdown",
      "metadata": {
        "id": "view-in-github",
        "colab_type": "text"
      },
      "source": [
        "<a href=\"https://colab.research.google.com/github/JanaAliCS/machine_leanring/blob/main/assignment_1.ipynb\" target=\"_parent\"><img src=\"https://colab.research.google.com/assets/colab-badge.svg\" alt=\"Open In Colab\"/></a>"
      ]
    },
    {
      "cell_type": "markdown",
      "id": "caf98993",
      "metadata": {
        "id": "caf98993"
      },
      "source": [
        "# Lab: Customer Churn Prediction (EDA, Modelling & Research)\n",
        "This lab focuses on **exploring the dataset, cleaning it, creating features, fitting a simple model, and reflecting** on how to evaluate models.\n",
        "\n",
        "⚠️ **Note**: This dataset is synthetic and provided for academic purposes."
      ]
    },
    {
      "cell_type": "markdown",
      "id": "044d7103",
      "metadata": {
        "id": "044d7103"
      },
      "source": [
        "## Section 0 – Setup\n",
        "Fill in your details and import the libraries you will need."
      ]
    },
    {
      "cell_type": "code",
      "execution_count": null,
      "id": "a3fe3861",
      "metadata": {
        "id": "a3fe3861"
      },
      "outputs": [],
      "source": [
        "student_name = ''"
      ]
    },
    {
      "cell_type": "code",
      "execution_count": null,
      "id": "09d0d53d",
      "metadata": {
        "id": "09d0d53d"
      },
      "outputs": [],
      "source": [
        "# add required imports here"
      ]
    },
    {
      "cell_type": "code",
      "execution_count": null,
      "id": "4208ccff",
      "metadata": {
        "id": "4208ccff"
      },
      "outputs": [],
      "source": [
        "# import df"
      ]
    },
    {
      "cell_type": "markdown",
      "id": "72c3c985",
      "metadata": {
        "id": "72c3c985"
      },
      "source": [
        "## Section 1 – Data Exploration (25%)"
      ]
    },
    {
      "cell_type": "markdown",
      "id": "a31e009b",
      "metadata": {
        "id": "a31e009b"
      },
      "source": [
        "### Q1: How many **unique customers** are in the dataset?"
      ]
    },
    {
      "cell_type": "code",
      "execution_count": null,
      "id": "f7b7d509",
      "metadata": {
        "id": "f7b7d509"
      },
      "outputs": [],
      "source": [
        "#hint: use pd.nunique function\n",
        "unique_customers = ..."
      ]
    },
    {
      "cell_type": "markdown",
      "id": "1beb5216",
      "metadata": {
        "id": "1beb5216"
      },
      "source": [
        "### Q2: Count missing values in each column"
      ]
    },
    {
      "cell_type": "code",
      "execution_count": null,
      "id": "bf4d527b",
      "metadata": {
        "id": "bf4d527b"
      },
      "outputs": [],
      "source": [
        "missing_counts = ..."
      ]
    },
    {
      "cell_type": "markdown",
      "id": "e94a03e6",
      "metadata": {
        "id": "e94a03e6"
      },
      "source": [
        "### Q3: Visualize distributions of numeric variables (tenure, MonthlyCharges, TotalCharges)"
      ]
    },
    {
      "cell_type": "code",
      "execution_count": null,
      "id": "8908ff07",
      "metadata": {
        "id": "8908ff07"
      },
      "outputs": [],
      "source": [
        "# Create histograms or boxplots for numeric features"
      ]
    },
    {
      "cell_type": "markdown",
      "id": "00d74b66",
      "metadata": {
        "id": "00d74b66"
      },
      "source": [
        "### Q4: Visualize churn distribution"
      ]
    },
    {
      "cell_type": "code",
      "execution_count": null,
      "id": "8a8f0a90",
      "metadata": {
        "id": "8a8f0a90"
      },
      "outputs": [],
      "source": [
        "# Create a bar plot for churn distribution"
      ]
    },
    {
      "cell_type": "markdown",
      "id": "ddf37855",
      "metadata": {
        "id": "ddf37855"
      },
      "source": [
        "## Section 2 – Data Cleaning (20%)"
      ]
    },
    {
      "cell_type": "markdown",
      "id": "3b35fd7b",
      "metadata": {
        "id": "3b35fd7b"
      },
      "source": [
        "### Q5: Convert `TotalCharges` to numeric and handle missing values"
      ]
    },
    {
      "cell_type": "code",
      "execution_count": null,
      "id": "94d8da45",
      "metadata": {
        "id": "94d8da45"
      },
      "outputs": [],
      "source": [
        "df['TotalCharges'] = ..."
      ]
    },
    {
      "cell_type": "markdown",
      "id": "b51a8717",
      "metadata": {
        "id": "b51a8717"
      },
      "source": [
        "**Reflection:** Why did you choose this method for handling missing values?"
      ]
    },
    {
      "cell_type": "markdown",
      "id": "9eabe3b1",
      "metadata": {
        "id": "9eabe3b1"
      },
      "source": [
        "### Q6: Drop duplicate rows if any"
      ]
    },
    {
      "cell_type": "code",
      "execution_count": null,
      "id": "8999e390",
      "metadata": {
        "id": "8999e390"
      },
      "outputs": [],
      "source": [
        "df = ..."
      ]
    },
    {
      "cell_type": "markdown",
      "id": "456ab241",
      "metadata": {
        "id": "456ab241"
      },
      "source": [
        "## Section 3 – Feature Engineering (20%)"
      ]
    },
    {
      "cell_type": "markdown",
      "id": "25b10e23",
      "metadata": {
        "id": "25b10e23"
      },
      "source": [
        "### Q7: Create `tenure_group` feature (0–12, 13–24, 25–48, 49+)"
      ]
    },
    {
      "cell_type": "code",
      "execution_count": null,
      "id": "ca4d027b",
      "metadata": {
        "id": "ca4d027b"
      },
      "outputs": [],
      "source": [
        "df['tenure_group'] = ..."
      ]
    },
    {
      "cell_type": "markdown",
      "id": "36de4a8e",
      "metadata": {
        "id": "36de4a8e"
      },
      "source": [
        "### Q8: Encode categorical variables"
      ]
    },
    {
      "cell_type": "code",
      "execution_count": null,
      "id": "f4f17778",
      "metadata": {
        "id": "f4f17778"
      },
      "outputs": [],
      "source": [
        "df_encoded = ..."
      ]
    },
    {
      "cell_type": "markdown",
      "id": "9c1cd331",
      "metadata": {
        "id": "9c1cd331"
      },
      "source": [
        "## Section 4 – Simple Modelling (15%)"
      ]
    },
    {
      "cell_type": "markdown",
      "id": "8a96b390",
      "metadata": {
        "id": "8a96b390"
      },
      "source": [
        "### Q9: Split dataset into train/test (70/30)"
      ]
    },
    {
      "cell_type": "code",
      "execution_count": null,
      "id": "19b94212",
      "metadata": {
        "id": "19b94212"
      },
      "outputs": [],
      "source": [
        "X = ...\n",
        "y = ...\n",
        "X_train, X_test, y_train, y_test = ..."
      ]
    },
    {
      "cell_type": "markdown",
      "id": "def253ba",
      "metadata": {
        "id": "def253ba"
      },
      "source": [
        "### Q10: Fit Logistic Regression and compute accuracy"
      ]
    },
    {
      "cell_type": "code",
      "execution_count": null,
      "id": "f57253ce",
      "metadata": {
        "id": "f57253ce"
      },
      "outputs": [],
      "source": [
        "model = ...\n",
        "model.fit(...)\n",
        "y_pred = model.predict(...)\n",
        "accuracy = ...\n",
        "accuracy"
      ]
    },
    {
      "cell_type": "markdown",
      "id": "198ab034",
      "metadata": {
        "id": "198ab034"
      },
      "source": [
        "### Q11: Research First, Then Compute\n",
        "\n",
        "Before coding, do the research in Section 5.\n",
        "\n",
        "Then, compute precision and recall for the churn class using your model.\n"
      ]
    },
    {
      "cell_type": "code",
      "execution_count": null,
      "id": "f587fb04",
      "metadata": {
        "id": "f587fb04"
      },
      "outputs": [],
      "source": [
        "precision = ...\n",
        "recall = ...\n",
        "precision, recall"
      ]
    },
    {
      "cell_type": "markdown",
      "id": "4d1fed89",
      "metadata": {
        "id": "4d1fed89"
      },
      "source": [
        "## Section 5 – Research & Reflection (20%)"
      ]
    },
    {
      "cell_type": "markdown",
      "id": "42995e10",
      "metadata": {
        "id": "42995e10"
      },
      "source": [
        "### Q12: Why is accuracy not enough in churn prediction?\n",
        "Write your answer in one or two sentences."
      ]
    },
    {
      "cell_type": "markdown",
      "id": "d2ceab10",
      "metadata": {
        "id": "d2ceab10"
      },
      "source": [
        "### Q13: Research Task\n",
        "Search what **precision**, **recall**, and a **classification report** mean in classification problems.\n",
        "\n",
        "- Write a short summary in your own words (2–3 sentences).\n",
        "- Why might recall be more important than precision in churn prediction?"
      ]
    }
  ],
  "metadata": {
    "language_info": {
      "name": "python"
    },
    "colab": {
      "provenance": [],
      "include_colab_link": true
    }
  },
  "nbformat": 4,
  "nbformat_minor": 5
}