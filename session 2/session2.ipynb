{
  "cells": [
    {
      "cell_type": "markdown",
      "metadata": {
        "id": "view-in-github",
        "colab_type": "text"
      },
      "source": [
        "<a href=\"https://colab.research.google.com/github/JanaAliCS/machine_leanring/blob/main/session%202/session2.ipynb\" target=\"_parent\"><img src=\"https://colab.research.google.com/assets/colab-badge.svg\" alt=\"Open In Colab\"/></a>"
      ]
    },
    {
      "cell_type": "markdown",
      "id": "f47a8670",
      "metadata": {
        "id": "f47a8670"
      },
      "source": [
        "# Credit Scoring Dataset – First Look\n",
        "In this session, you will:\n",
        "- Explore a raw dataset for credit scoring.\n",
        "- Identify and fix common data quality issues.\n",
        "- Engineer new features useful for predicting credit risk.\n",
        "\n",
        "The dataset mimics real-world bank data, with deliberate issues (missing values, outliers, duplicates).\n",
        "\n",
        "> **Note for Students**  \n",
        "> This dataset is **synthetic** and created for **academic purposes only**.  \n",
        "> It is not real customer data, but it mimics some of the real issues (like missing values, inconsistent categories, and outliers) that we often face in actual credit scoring use cases.\n"
      ]
    },
    {
      "cell_type": "code",
      "execution_count": 47,
      "id": "fff5b2c1",
      "metadata": {
        "id": "fff5b2c1"
      },
      "outputs": [],
      "source": [
        "import pandas as pd\n",
        "import plotly.express as px\n",
        "import numpy as np\n",
        "from sklearn.model_selection import train_test_split\n",
        "from sklearn.linear_model import LogisticRegression\n",
        "from sklearn.metrics import accuracy_score, classification_report, confusion_matrix\n",
        "import seaborn as sns\n",
        "import matplotlib.pyplot as plt\n"
      ]
    },
    {
      "cell_type": "markdown",
      "id": "f05996f7",
      "metadata": {
        "id": "f05996f7"
      },
      "source": [
        "# Section 1: Quick EDA (Exploratory Data Analysis)\n",
        "Before cleaning and feature engineering, let's understand the dataset.\n",
        "\n",
        "Goals:\n",
        "- Check dataset shape and column types\n",
        "- Inspect distributions of numeric variables\n",
        "- Explore categorical variables\n",
        "- Identify issues: missing values, outliers, inconsistencies"
      ]
    },
    {
      "cell_type": "markdown",
      "id": "8076f792",
      "metadata": {
        "id": "8076f792"
      },
      "source": [
        "### Step 1.1 – Dataset Overview\n",
        "- Check shape and column types\n",
        "- Preview first rows"
      ]
    },
    {
      "cell_type": "code",
      "execution_count": 48,
      "id": "30c12ddd",
      "metadata": {
        "id": "30c12ddd"
      },
      "outputs": [],
      "source": [
        "# TODO: Read the CSV file into a DataFrame\n",
        "df = pd.read_csv('https://raw.githubusercontent.com/kelkess43/AUC-Material/refs/heads/main/session%202/credit_scoring.csv')"
      ]
    },
    {
      "cell_type": "code",
      "execution_count": 49,
      "id": "f18e9fcc",
      "metadata": {
        "colab": {
          "base_uri": "https://localhost:8080/",
          "height": 359
        },
        "id": "f18e9fcc",
        "outputId": "ebb7696e-f11b-4886-cafd-c86711c8cef3"
      },
      "outputs": [
        {
          "output_type": "execute_result",
          "data": {
            "text/plain": [
              "   customer_id   age  gender   income employment_type    education  \\\n",
              "0            1  38.0    Male  30250.0        Salaried          PhD   \n",
              "1            2  18.0  Female  18709.0        Salaried     Bachelor   \n",
              "2            3  34.0    Male   4563.0        Salaried       Master   \n",
              "3            4  56.0  Female  48782.0        Salaried     Bachelor   \n",
              "4            5  38.0    Male  47630.0   Self employed       Master   \n",
              "5            6  24.0    Male  32569.0      Unemployed  High School   \n",
              "6            7  24.0    Male  16524.0   Self employed       Master   \n",
              "7            8  28.0    Male  14239.0        Salaried  High School   \n",
              "8            9  31.0  Female  18144.0        Salaried       Master   \n",
              "9           10  19.0    Male   6008.0      Unemployed          PhD   \n",
              "\n",
              "   total_debt  balance  credit_limit  late_payments  monthly_balance  default  \n",
              "0       25531     8894         10217              2             2541        0  \n",
              "1       14517    10346         15245              3             2692        1  \n",
              "2       39234    10962         17609              2             2957        0  \n",
              "3       12253    21960         12636              3             2398        0  \n",
              "4        3108     -496         18226              0             4165        0  \n",
              "5       15287    13416         16838              1             1395        0  \n",
              "6         245     9425          9010              1             1827        0  \n",
              "7       27510    12833         18112              5             3181        1  \n",
              "8        -650     6713         20181              5             2448        0  \n",
              "9       20284     9755         16028              3             1336        1  "
            ],
            "text/html": [
              "\n",
              "  <div id=\"df-6a5a3006-04fd-467a-b0ed-26e751d2c3e0\" class=\"colab-df-container\">\n",
              "    <div>\n",
              "<style scoped>\n",
              "    .dataframe tbody tr th:only-of-type {\n",
              "        vertical-align: middle;\n",
              "    }\n",
              "\n",
              "    .dataframe tbody tr th {\n",
              "        vertical-align: top;\n",
              "    }\n",
              "\n",
              "    .dataframe thead th {\n",
              "        text-align: right;\n",
              "    }\n",
              "</style>\n",
              "<table border=\"1\" class=\"dataframe\">\n",
              "  <thead>\n",
              "    <tr style=\"text-align: right;\">\n",
              "      <th></th>\n",
              "      <th>customer_id</th>\n",
              "      <th>age</th>\n",
              "      <th>gender</th>\n",
              "      <th>income</th>\n",
              "      <th>employment_type</th>\n",
              "      <th>education</th>\n",
              "      <th>total_debt</th>\n",
              "      <th>balance</th>\n",
              "      <th>credit_limit</th>\n",
              "      <th>late_payments</th>\n",
              "      <th>monthly_balance</th>\n",
              "      <th>default</th>\n",
              "    </tr>\n",
              "  </thead>\n",
              "  <tbody>\n",
              "    <tr>\n",
              "      <th>0</th>\n",
              "      <td>1</td>\n",
              "      <td>38.0</td>\n",
              "      <td>Male</td>\n",
              "      <td>30250.0</td>\n",
              "      <td>Salaried</td>\n",
              "      <td>PhD</td>\n",
              "      <td>25531</td>\n",
              "      <td>8894</td>\n",
              "      <td>10217</td>\n",
              "      <td>2</td>\n",
              "      <td>2541</td>\n",
              "      <td>0</td>\n",
              "    </tr>\n",
              "    <tr>\n",
              "      <th>1</th>\n",
              "      <td>2</td>\n",
              "      <td>18.0</td>\n",
              "      <td>Female</td>\n",
              "      <td>18709.0</td>\n",
              "      <td>Salaried</td>\n",
              "      <td>Bachelor</td>\n",
              "      <td>14517</td>\n",
              "      <td>10346</td>\n",
              "      <td>15245</td>\n",
              "      <td>3</td>\n",
              "      <td>2692</td>\n",
              "      <td>1</td>\n",
              "    </tr>\n",
              "    <tr>\n",
              "      <th>2</th>\n",
              "      <td>3</td>\n",
              "      <td>34.0</td>\n",
              "      <td>Male</td>\n",
              "      <td>4563.0</td>\n",
              "      <td>Salaried</td>\n",
              "      <td>Master</td>\n",
              "      <td>39234</td>\n",
              "      <td>10962</td>\n",
              "      <td>17609</td>\n",
              "      <td>2</td>\n",
              "      <td>2957</td>\n",
              "      <td>0</td>\n",
              "    </tr>\n",
              "    <tr>\n",
              "      <th>3</th>\n",
              "      <td>4</td>\n",
              "      <td>56.0</td>\n",
              "      <td>Female</td>\n",
              "      <td>48782.0</td>\n",
              "      <td>Salaried</td>\n",
              "      <td>Bachelor</td>\n",
              "      <td>12253</td>\n",
              "      <td>21960</td>\n",
              "      <td>12636</td>\n",
              "      <td>3</td>\n",
              "      <td>2398</td>\n",
              "      <td>0</td>\n",
              "    </tr>\n",
              "    <tr>\n",
              "      <th>4</th>\n",
              "      <td>5</td>\n",
              "      <td>38.0</td>\n",
              "      <td>Male</td>\n",
              "      <td>47630.0</td>\n",
              "      <td>Self employed</td>\n",
              "      <td>Master</td>\n",
              "      <td>3108</td>\n",
              "      <td>-496</td>\n",
              "      <td>18226</td>\n",
              "      <td>0</td>\n",
              "      <td>4165</td>\n",
              "      <td>0</td>\n",
              "    </tr>\n",
              "    <tr>\n",
              "      <th>5</th>\n",
              "      <td>6</td>\n",
              "      <td>24.0</td>\n",
              "      <td>Male</td>\n",
              "      <td>32569.0</td>\n",
              "      <td>Unemployed</td>\n",
              "      <td>High School</td>\n",
              "      <td>15287</td>\n",
              "      <td>13416</td>\n",
              "      <td>16838</td>\n",
              "      <td>1</td>\n",
              "      <td>1395</td>\n",
              "      <td>0</td>\n",
              "    </tr>\n",
              "    <tr>\n",
              "      <th>6</th>\n",
              "      <td>7</td>\n",
              "      <td>24.0</td>\n",
              "      <td>Male</td>\n",
              "      <td>16524.0</td>\n",
              "      <td>Self employed</td>\n",
              "      <td>Master</td>\n",
              "      <td>245</td>\n",
              "      <td>9425</td>\n",
              "      <td>9010</td>\n",
              "      <td>1</td>\n",
              "      <td>1827</td>\n",
              "      <td>0</td>\n",
              "    </tr>\n",
              "    <tr>\n",
              "      <th>7</th>\n",
              "      <td>8</td>\n",
              "      <td>28.0</td>\n",
              "      <td>Male</td>\n",
              "      <td>14239.0</td>\n",
              "      <td>Salaried</td>\n",
              "      <td>High School</td>\n",
              "      <td>27510</td>\n",
              "      <td>12833</td>\n",
              "      <td>18112</td>\n",
              "      <td>5</td>\n",
              "      <td>3181</td>\n",
              "      <td>1</td>\n",
              "    </tr>\n",
              "    <tr>\n",
              "      <th>8</th>\n",
              "      <td>9</td>\n",
              "      <td>31.0</td>\n",
              "      <td>Female</td>\n",
              "      <td>18144.0</td>\n",
              "      <td>Salaried</td>\n",
              "      <td>Master</td>\n",
              "      <td>-650</td>\n",
              "      <td>6713</td>\n",
              "      <td>20181</td>\n",
              "      <td>5</td>\n",
              "      <td>2448</td>\n",
              "      <td>0</td>\n",
              "    </tr>\n",
              "    <tr>\n",
              "      <th>9</th>\n",
              "      <td>10</td>\n",
              "      <td>19.0</td>\n",
              "      <td>Male</td>\n",
              "      <td>6008.0</td>\n",
              "      <td>Unemployed</td>\n",
              "      <td>PhD</td>\n",
              "      <td>20284</td>\n",
              "      <td>9755</td>\n",
              "      <td>16028</td>\n",
              "      <td>3</td>\n",
              "      <td>1336</td>\n",
              "      <td>1</td>\n",
              "    </tr>\n",
              "  </tbody>\n",
              "</table>\n",
              "</div>\n",
              "    <div class=\"colab-df-buttons\">\n",
              "\n",
              "  <div class=\"colab-df-container\">\n",
              "    <button class=\"colab-df-convert\" onclick=\"convertToInteractive('df-6a5a3006-04fd-467a-b0ed-26e751d2c3e0')\"\n",
              "            title=\"Convert this dataframe to an interactive table.\"\n",
              "            style=\"display:none;\">\n",
              "\n",
              "  <svg xmlns=\"http://www.w3.org/2000/svg\" height=\"24px\" viewBox=\"0 -960 960 960\">\n",
              "    <path d=\"M120-120v-720h720v720H120Zm60-500h600v-160H180v160Zm220 220h160v-160H400v160Zm0 220h160v-160H400v160ZM180-400h160v-160H180v160Zm440 0h160v-160H620v160ZM180-180h160v-160H180v160Zm440 0h160v-160H620v160Z\"/>\n",
              "  </svg>\n",
              "    </button>\n",
              "\n",
              "  <style>\n",
              "    .colab-df-container {\n",
              "      display:flex;\n",
              "      gap: 12px;\n",
              "    }\n",
              "\n",
              "    .colab-df-convert {\n",
              "      background-color: #E8F0FE;\n",
              "      border: none;\n",
              "      border-radius: 50%;\n",
              "      cursor: pointer;\n",
              "      display: none;\n",
              "      fill: #1967D2;\n",
              "      height: 32px;\n",
              "      padding: 0 0 0 0;\n",
              "      width: 32px;\n",
              "    }\n",
              "\n",
              "    .colab-df-convert:hover {\n",
              "      background-color: #E2EBFA;\n",
              "      box-shadow: 0px 1px 2px rgba(60, 64, 67, 0.3), 0px 1px 3px 1px rgba(60, 64, 67, 0.15);\n",
              "      fill: #174EA6;\n",
              "    }\n",
              "\n",
              "    .colab-df-buttons div {\n",
              "      margin-bottom: 4px;\n",
              "    }\n",
              "\n",
              "    [theme=dark] .colab-df-convert {\n",
              "      background-color: #3B4455;\n",
              "      fill: #D2E3FC;\n",
              "    }\n",
              "\n",
              "    [theme=dark] .colab-df-convert:hover {\n",
              "      background-color: #434B5C;\n",
              "      box-shadow: 0px 1px 3px 1px rgba(0, 0, 0, 0.15);\n",
              "      filter: drop-shadow(0px 1px 2px rgba(0, 0, 0, 0.3));\n",
              "      fill: #FFFFFF;\n",
              "    }\n",
              "  </style>\n",
              "\n",
              "    <script>\n",
              "      const buttonEl =\n",
              "        document.querySelector('#df-6a5a3006-04fd-467a-b0ed-26e751d2c3e0 button.colab-df-convert');\n",
              "      buttonEl.style.display =\n",
              "        google.colab.kernel.accessAllowed ? 'block' : 'none';\n",
              "\n",
              "      async function convertToInteractive(key) {\n",
              "        const element = document.querySelector('#df-6a5a3006-04fd-467a-b0ed-26e751d2c3e0');\n",
              "        const dataTable =\n",
              "          await google.colab.kernel.invokeFunction('convertToInteractive',\n",
              "                                                    [key], {});\n",
              "        if (!dataTable) return;\n",
              "\n",
              "        const docLinkHtml = 'Like what you see? Visit the ' +\n",
              "          '<a target=\"_blank\" href=https://colab.research.google.com/notebooks/data_table.ipynb>data table notebook</a>'\n",
              "          + ' to learn more about interactive tables.';\n",
              "        element.innerHTML = '';\n",
              "        dataTable['output_type'] = 'display_data';\n",
              "        await google.colab.output.renderOutput(dataTable, element);\n",
              "        const docLink = document.createElement('div');\n",
              "        docLink.innerHTML = docLinkHtml;\n",
              "        element.appendChild(docLink);\n",
              "      }\n",
              "    </script>\n",
              "  </div>\n",
              "\n",
              "\n",
              "    <div id=\"df-5e4eca4f-1715-464f-95fc-976ce37bef57\">\n",
              "      <button class=\"colab-df-quickchart\" onclick=\"quickchart('df-5e4eca4f-1715-464f-95fc-976ce37bef57')\"\n",
              "                title=\"Suggest charts\"\n",
              "                style=\"display:none;\">\n",
              "\n",
              "<svg xmlns=\"http://www.w3.org/2000/svg\" height=\"24px\"viewBox=\"0 0 24 24\"\n",
              "     width=\"24px\">\n",
              "    <g>\n",
              "        <path d=\"M19 3H5c-1.1 0-2 .9-2 2v14c0 1.1.9 2 2 2h14c1.1 0 2-.9 2-2V5c0-1.1-.9-2-2-2zM9 17H7v-7h2v7zm4 0h-2V7h2v10zm4 0h-2v-4h2v4z\"/>\n",
              "    </g>\n",
              "</svg>\n",
              "      </button>\n",
              "\n",
              "<style>\n",
              "  .colab-df-quickchart {\n",
              "      --bg-color: #E8F0FE;\n",
              "      --fill-color: #1967D2;\n",
              "      --hover-bg-color: #E2EBFA;\n",
              "      --hover-fill-color: #174EA6;\n",
              "      --disabled-fill-color: #AAA;\n",
              "      --disabled-bg-color: #DDD;\n",
              "  }\n",
              "\n",
              "  [theme=dark] .colab-df-quickchart {\n",
              "      --bg-color: #3B4455;\n",
              "      --fill-color: #D2E3FC;\n",
              "      --hover-bg-color: #434B5C;\n",
              "      --hover-fill-color: #FFFFFF;\n",
              "      --disabled-bg-color: #3B4455;\n",
              "      --disabled-fill-color: #666;\n",
              "  }\n",
              "\n",
              "  .colab-df-quickchart {\n",
              "    background-color: var(--bg-color);\n",
              "    border: none;\n",
              "    border-radius: 50%;\n",
              "    cursor: pointer;\n",
              "    display: none;\n",
              "    fill: var(--fill-color);\n",
              "    height: 32px;\n",
              "    padding: 0;\n",
              "    width: 32px;\n",
              "  }\n",
              "\n",
              "  .colab-df-quickchart:hover {\n",
              "    background-color: var(--hover-bg-color);\n",
              "    box-shadow: 0 1px 2px rgba(60, 64, 67, 0.3), 0 1px 3px 1px rgba(60, 64, 67, 0.15);\n",
              "    fill: var(--button-hover-fill-color);\n",
              "  }\n",
              "\n",
              "  .colab-df-quickchart-complete:disabled,\n",
              "  .colab-df-quickchart-complete:disabled:hover {\n",
              "    background-color: var(--disabled-bg-color);\n",
              "    fill: var(--disabled-fill-color);\n",
              "    box-shadow: none;\n",
              "  }\n",
              "\n",
              "  .colab-df-spinner {\n",
              "    border: 2px solid var(--fill-color);\n",
              "    border-color: transparent;\n",
              "    border-bottom-color: var(--fill-color);\n",
              "    animation:\n",
              "      spin 1s steps(1) infinite;\n",
              "  }\n",
              "\n",
              "  @keyframes spin {\n",
              "    0% {\n",
              "      border-color: transparent;\n",
              "      border-bottom-color: var(--fill-color);\n",
              "      border-left-color: var(--fill-color);\n",
              "    }\n",
              "    20% {\n",
              "      border-color: transparent;\n",
              "      border-left-color: var(--fill-color);\n",
              "      border-top-color: var(--fill-color);\n",
              "    }\n",
              "    30% {\n",
              "      border-color: transparent;\n",
              "      border-left-color: var(--fill-color);\n",
              "      border-top-color: var(--fill-color);\n",
              "      border-right-color: var(--fill-color);\n",
              "    }\n",
              "    40% {\n",
              "      border-color: transparent;\n",
              "      border-right-color: var(--fill-color);\n",
              "      border-top-color: var(--fill-color);\n",
              "    }\n",
              "    60% {\n",
              "      border-color: transparent;\n",
              "      border-right-color: var(--fill-color);\n",
              "    }\n",
              "    80% {\n",
              "      border-color: transparent;\n",
              "      border-right-color: var(--fill-color);\n",
              "      border-bottom-color: var(--fill-color);\n",
              "    }\n",
              "    90% {\n",
              "      border-color: transparent;\n",
              "      border-bottom-color: var(--fill-color);\n",
              "    }\n",
              "  }\n",
              "</style>\n",
              "\n",
              "      <script>\n",
              "        async function quickchart(key) {\n",
              "          const quickchartButtonEl =\n",
              "            document.querySelector('#' + key + ' button');\n",
              "          quickchartButtonEl.disabled = true;  // To prevent multiple clicks.\n",
              "          quickchartButtonEl.classList.add('colab-df-spinner');\n",
              "          try {\n",
              "            const charts = await google.colab.kernel.invokeFunction(\n",
              "                'suggestCharts', [key], {});\n",
              "          } catch (error) {\n",
              "            console.error('Error during call to suggestCharts:', error);\n",
              "          }\n",
              "          quickchartButtonEl.classList.remove('colab-df-spinner');\n",
              "          quickchartButtonEl.classList.add('colab-df-quickchart-complete');\n",
              "        }\n",
              "        (() => {\n",
              "          let quickchartButtonEl =\n",
              "            document.querySelector('#df-5e4eca4f-1715-464f-95fc-976ce37bef57 button');\n",
              "          quickchartButtonEl.style.display =\n",
              "            google.colab.kernel.accessAllowed ? 'block' : 'none';\n",
              "        })();\n",
              "      </script>\n",
              "    </div>\n",
              "\n",
              "    </div>\n",
              "  </div>\n"
            ],
            "application/vnd.google.colaboratory.intrinsic+json": {
              "type": "dataframe",
              "variable_name": "df",
              "summary": "{\n  \"name\": \"df\",\n  \"rows\": 1010,\n  \"fields\": [\n    {\n      \"column\": \"customer_id\",\n      \"properties\": {\n        \"dtype\": \"number\",\n        \"std\": 289,\n        \"min\": 1,\n        \"max\": 1000,\n        \"num_unique_values\": 1000,\n        \"samples\": [\n          522,\n          738,\n          741\n        ],\n        \"semantic_type\": \"\",\n        \"description\": \"\"\n      }\n    },\n    {\n      \"column\": \"age\",\n      \"properties\": {\n        \"dtype\": \"number\",\n        \"std\": 11.953011233047734,\n        \"min\": -48.0,\n        \"max\": 64.0,\n        \"num_unique_values\": 55,\n        \"samples\": [\n          45.0,\n          28.0,\n          53.0\n        ],\n        \"semantic_type\": \"\",\n        \"description\": \"\"\n      }\n    },\n    {\n      \"column\": \"gender\",\n      \"properties\": {\n        \"dtype\": \"category\",\n        \"num_unique_values\": 2,\n        \"samples\": [\n          \"Female\",\n          \"Male\"\n        ],\n        \"semantic_type\": \"\",\n        \"description\": \"\"\n      }\n    },\n    {\n      \"column\": \"income\",\n      \"properties\": {\n        \"dtype\": \"number\",\n        \"std\": 14258.179740369995,\n        \"min\": -40973.0,\n        \"max\": 141531.0,\n        \"num_unique_values\": 967,\n        \"samples\": [\n          11351.0,\n          42467.0\n        ],\n        \"semantic_type\": \"\",\n        \"description\": \"\"\n      }\n    },\n    {\n      \"column\": \"employment_type\",\n      \"properties\": {\n        \"dtype\": \"category\",\n        \"num_unique_values\": 4,\n        \"samples\": [\n          \"Self employed\",\n          \"Self-Employed\"\n        ],\n        \"semantic_type\": \"\",\n        \"description\": \"\"\n      }\n    },\n    {\n      \"column\": \"education\",\n      \"properties\": {\n        \"dtype\": \"category\",\n        \"num_unique_values\": 4,\n        \"samples\": [\n          \"Bachelor\",\n          \"High School\"\n        ],\n        \"semantic_type\": \"\",\n        \"description\": \"\"\n      }\n    },\n    {\n      \"column\": \"total_debt\",\n      \"properties\": {\n        \"dtype\": \"number\",\n        \"std\": 9903,\n        \"min\": -11767,\n        \"max\": 50768,\n        \"num_unique_values\": 985,\n        \"samples\": [\n          33116,\n          25001\n        ],\n        \"semantic_type\": \"\",\n        \"description\": \"\"\n      }\n    },\n    {\n      \"column\": \"balance\",\n      \"properties\": {\n        \"dtype\": \"number\",\n        \"std\": 5070,\n        \"min\": -4497,\n        \"max\": 25564,\n        \"num_unique_values\": 973,\n        \"samples\": [\n          8155,\n          16460\n        ],\n        \"semantic_type\": \"\",\n        \"description\": \"\"\n      }\n    },\n    {\n      \"column\": \"credit_limit\",\n      \"properties\": {\n        \"dtype\": \"number\",\n        \"std\": 6175,\n        \"min\": -1275,\n        \"max\": 36174,\n        \"num_unique_values\": 976,\n        \"samples\": [\n          17500,\n          11900\n        ],\n        \"semantic_type\": \"\",\n        \"description\": \"\"\n      }\n    },\n    {\n      \"column\": \"late_payments\",\n      \"properties\": {\n        \"dtype\": \"number\",\n        \"std\": 1,\n        \"min\": 0,\n        \"max\": 8,\n        \"num_unique_values\": 9,\n        \"samples\": [\n          6,\n          3\n        ],\n        \"semantic_type\": \"\",\n        \"description\": \"\"\n      }\n    },\n    {\n      \"column\": \"monthly_balance\",\n      \"properties\": {\n        \"dtype\": \"number\",\n        \"std\": 1841,\n        \"min\": -6520,\n        \"max\": 29540,\n        \"num_unique_values\": 892,\n        \"samples\": [\n          29540,\n          2657\n        ],\n        \"semantic_type\": \"\",\n        \"description\": \"\"\n      }\n    },\n    {\n      \"column\": \"default\",\n      \"properties\": {\n        \"dtype\": \"number\",\n        \"std\": 0,\n        \"min\": 0,\n        \"max\": 1,\n        \"num_unique_values\": 2,\n        \"samples\": [\n          1,\n          0\n        ],\n        \"semantic_type\": \"\",\n        \"description\": \"\"\n      }\n    }\n  ]\n}"
            }
          },
          "metadata": {},
          "execution_count": 49
        }
      ],
      "source": [
        "# TODO: Preview the first 10 rows of the dataset\n",
        "df.head(10)"
      ]
    },
    {
      "cell_type": "markdown",
      "id": "8066a4d8",
      "metadata": {
        "id": "8066a4d8"
      },
      "source": [
        "### Step 1.2 – Summary Statistics\n",
        "- Describe numeric variables\n",
        "- Count categorical values"
      ]
    },
    {
      "cell_type": "code",
      "execution_count": 50,
      "id": "288caa4e",
      "metadata": {
        "colab": {
          "base_uri": "https://localhost:8080/"
        },
        "id": "288caa4e",
        "outputId": "300e78ea-d279-4cfc-c93f-1b5d69a11a84"
      },
      "outputs": [
        {
          "output_type": "stream",
          "name": "stdout",
          "text": [
            "<class 'pandas.core.frame.DataFrame'>\n",
            "RangeIndex: 1010 entries, 0 to 1009\n",
            "Data columns (total 12 columns):\n",
            " #   Column           Non-Null Count  Dtype  \n",
            "---  ------           --------------  -----  \n",
            " 0   customer_id      1010 non-null   int64  \n",
            " 1   age              960 non-null    float64\n",
            " 2   gender           1010 non-null   object \n",
            " 3   income           990 non-null    float64\n",
            " 4   employment_type  960 non-null    object \n",
            " 5   education        1010 non-null   object \n",
            " 6   total_debt       1010 non-null   int64  \n",
            " 7   balance          1010 non-null   int64  \n",
            " 8   credit_limit     1010 non-null   int64  \n",
            " 9   late_payments    1010 non-null   int64  \n",
            " 10  monthly_balance  1010 non-null   int64  \n",
            " 11  default          1010 non-null   int64  \n",
            "dtypes: float64(2), int64(7), object(3)\n",
            "memory usage: 94.8+ KB\n"
          ]
        }
      ],
      "source": [
        "# TODO: check data types and non-null counts\n",
        "df.info()\n",
        "# or we can use df.describe()"
      ]
    },
    {
      "cell_type": "code",
      "execution_count": 51,
      "id": "57d01245",
      "metadata": {
        "colab": {
          "base_uri": "https://localhost:8080/",
          "height": 238
        },
        "id": "57d01245",
        "outputId": "2ee79c60-3387-4f0d-c8fa-bd2693fdb64a"
      },
      "outputs": [
        {
          "output_type": "execute_result",
          "data": {
            "text/plain": [
              "employment_type\n",
              "Salaried         578\n",
              "Self-Employed    156\n",
              "Self employed    143\n",
              "Unemployed        83\n",
              "Name: count, dtype: int64"
            ],
            "text/html": [
              "<div>\n",
              "<style scoped>\n",
              "    .dataframe tbody tr th:only-of-type {\n",
              "        vertical-align: middle;\n",
              "    }\n",
              "\n",
              "    .dataframe tbody tr th {\n",
              "        vertical-align: top;\n",
              "    }\n",
              "\n",
              "    .dataframe thead th {\n",
              "        text-align: right;\n",
              "    }\n",
              "</style>\n",
              "<table border=\"1\" class=\"dataframe\">\n",
              "  <thead>\n",
              "    <tr style=\"text-align: right;\">\n",
              "      <th></th>\n",
              "      <th>count</th>\n",
              "    </tr>\n",
              "    <tr>\n",
              "      <th>employment_type</th>\n",
              "      <th></th>\n",
              "    </tr>\n",
              "  </thead>\n",
              "  <tbody>\n",
              "    <tr>\n",
              "      <th>Salaried</th>\n",
              "      <td>578</td>\n",
              "    </tr>\n",
              "    <tr>\n",
              "      <th>Self-Employed</th>\n",
              "      <td>156</td>\n",
              "    </tr>\n",
              "    <tr>\n",
              "      <th>Self employed</th>\n",
              "      <td>143</td>\n",
              "    </tr>\n",
              "    <tr>\n",
              "      <th>Unemployed</th>\n",
              "      <td>83</td>\n",
              "    </tr>\n",
              "  </tbody>\n",
              "</table>\n",
              "</div><br><label><b>dtype:</b> int64</label>"
            ]
          },
          "metadata": {},
          "execution_count": 51
        }
      ],
      "source": [
        "# TODO: Check value counts for 'employment_type'\n",
        "df['employment_type'].value_counts()\n",
        "# (dropna) by default is true otherwise say (dropna=false) this shows a new row for NaN\n"
      ]
    },
    {
      "cell_type": "markdown",
      "id": "95e07667",
      "metadata": {
        "id": "95e07667"
      },
      "source": [
        "### Step 1.3 – Missing Values\n",
        "- Identify columns with NaN\n",
        "- Check proportions of missing\n",
        "\n",
        "\n",
        "*Explanation*: Missing values can bias results. Small amounts may be dropped, but important fields are often imputed with logical strategies."
      ]
    },
    {
      "cell_type": "code",
      "execution_count": 52,
      "id": "6aafdb58",
      "metadata": {
        "colab": {
          "base_uri": "https://localhost:8080/",
          "height": 455
        },
        "id": "6aafdb58",
        "outputId": "16c26346-7490-43b0-8721-6852e39d5681"
      },
      "outputs": [
        {
          "output_type": "execute_result",
          "data": {
            "text/plain": [
              "customer_id         0\n",
              "age                50\n",
              "gender              0\n",
              "income             20\n",
              "employment_type    50\n",
              "education           0\n",
              "total_debt          0\n",
              "balance             0\n",
              "credit_limit        0\n",
              "late_payments       0\n",
              "monthly_balance     0\n",
              "default             0\n",
              "dtype: int64"
            ],
            "text/html": [
              "<div>\n",
              "<style scoped>\n",
              "    .dataframe tbody tr th:only-of-type {\n",
              "        vertical-align: middle;\n",
              "    }\n",
              "\n",
              "    .dataframe tbody tr th {\n",
              "        vertical-align: top;\n",
              "    }\n",
              "\n",
              "    .dataframe thead th {\n",
              "        text-align: right;\n",
              "    }\n",
              "</style>\n",
              "<table border=\"1\" class=\"dataframe\">\n",
              "  <thead>\n",
              "    <tr style=\"text-align: right;\">\n",
              "      <th></th>\n",
              "      <th>0</th>\n",
              "    </tr>\n",
              "  </thead>\n",
              "  <tbody>\n",
              "    <tr>\n",
              "      <th>customer_id</th>\n",
              "      <td>0</td>\n",
              "    </tr>\n",
              "    <tr>\n",
              "      <th>age</th>\n",
              "      <td>50</td>\n",
              "    </tr>\n",
              "    <tr>\n",
              "      <th>gender</th>\n",
              "      <td>0</td>\n",
              "    </tr>\n",
              "    <tr>\n",
              "      <th>income</th>\n",
              "      <td>20</td>\n",
              "    </tr>\n",
              "    <tr>\n",
              "      <th>employment_type</th>\n",
              "      <td>50</td>\n",
              "    </tr>\n",
              "    <tr>\n",
              "      <th>education</th>\n",
              "      <td>0</td>\n",
              "    </tr>\n",
              "    <tr>\n",
              "      <th>total_debt</th>\n",
              "      <td>0</td>\n",
              "    </tr>\n",
              "    <tr>\n",
              "      <th>balance</th>\n",
              "      <td>0</td>\n",
              "    </tr>\n",
              "    <tr>\n",
              "      <th>credit_limit</th>\n",
              "      <td>0</td>\n",
              "    </tr>\n",
              "    <tr>\n",
              "      <th>late_payments</th>\n",
              "      <td>0</td>\n",
              "    </tr>\n",
              "    <tr>\n",
              "      <th>monthly_balance</th>\n",
              "      <td>0</td>\n",
              "    </tr>\n",
              "    <tr>\n",
              "      <th>default</th>\n",
              "      <td>0</td>\n",
              "    </tr>\n",
              "  </tbody>\n",
              "</table>\n",
              "</div><br><label><b>dtype:</b> int64</label>"
            ]
          },
          "metadata": {},
          "execution_count": 52
        }
      ],
      "source": [
        "# TODO: Find missing values in each column\n",
        "df.isnull().sum()\n",
        "#or df.isna().sum()\n",
        "#there could be a relation between two variables if they have the same number of nulls (ex from below: employment and gender)"
      ]
    },
    {
      "cell_type": "markdown",
      "id": "2ac3db16",
      "metadata": {
        "id": "2ac3db16"
      },
      "source": [
        "### Step 1.4 – Distributions & Outliers\n",
        "- Plot histograms for numeric columns\n",
        "- Use boxplots to detect outliers\n",
        "\n",
        "\n",
        "*Explanation*: Visualizing distributions helps detect skewness, outliers, or unrealistic values (e.g., negative income)."
      ]
    },
    {
      "cell_type": "code",
      "execution_count": 53,
      "id": "c36f7451",
      "metadata": {
        "colab": {
          "base_uri": "https://localhost:8080/",
          "height": 542
        },
        "id": "c36f7451",
        "outputId": "c8b1ed23-a735-4b70-fa42-63d1cd29a9b3"
      },
      "outputs": [
        {
          "output_type": "display_data",
          "data": {
            "text/html": [
              "<html>\n",
              "<head><meta charset=\"utf-8\" /></head>\n",
              "<body>\n",
              "    <div>            <script src=\"https://cdnjs.cloudflare.com/ajax/libs/mathjax/2.7.5/MathJax.js?config=TeX-AMS-MML_SVG\"></script><script type=\"text/javascript\">if (window.MathJax && window.MathJax.Hub && window.MathJax.Hub.Config) {window.MathJax.Hub.Config({SVG: {font: \"STIX-Web\"}});}</script>                <script type=\"text/javascript\">window.PlotlyConfig = {MathJaxConfig: 'local'};</script>\n",
              "        <script charset=\"utf-8\" src=\"https://cdn.plot.ly/plotly-2.35.2.min.js\"></script>                <div id=\"d1fb069d-e186-4318-8a74-49b942b6a311\" class=\"plotly-graph-div\" style=\"height:525px; width:100%;\"></div>            <script type=\"text/javascript\">                                    window.PLOTLYENV=window.PLOTLYENV || {};                                    if (document.getElementById(\"d1fb069d-e186-4318-8a74-49b942b6a311\")) {                    Plotly.newPlot(                        \"d1fb069d-e186-4318-8a74-49b942b6a311\",                        [{\"alignmentgroup\":\"True\",\"bingroup\":\"x\",\"hovertemplate\":\"age=%{x}\\u003cbr\\u003ecount=%{y}\\u003cextra\\u003e\\u003c\\u002fextra\\u003e\",\"legendgroup\":\"\",\"marker\":{\"color\":\"#636efa\",\"pattern\":{\"shape\":\"\"}},\"name\":\"\",\"nbinsx\":30,\"offsetgroup\":\"\",\"orientation\":\"v\",\"showlegend\":false,\"x\":[38.0,18.0,34.0,56.0,38.0,24.0,24.0,28.0,31.0,19.0,41.0,43.0,34.0,58.0,33.0,50.0,24.0,40.0,42.0,30.0,39.0,30.0,34.0,35.0,23.0,-43.0,43.0,34.0,40.0,28.0,25.0,34.0,44.0,37.0,33.0,41.0,28.0,25.0,34.0,29.0,26.0,47.0,60.0,22.0,33.0,39.0,20.0,35.0,36.0,42.0,30.0,32.0,47.0,42.0,45.0,20.0,31.0,53.0,37.0,36.0,37.0,53.0,30.0,44.0,40.0,24.0,35.0,29.0,25.0,49.0,null,45.0,29.0,51.0,33.0,41.0,null,18.0,21.0,19.0,40.0,37.0,43.0,31.0,18.0,51.0,47.0,41.0,49.0,36.0,40.0,30.0,27.0,22.0,30.0,64.0,null,28.0,39.0,61.0,27.0,null,44.0,44.0,31.0,29.0,42.0,34.0,40.0,36.0,41.0,42.0,18.0,33.0,41.0,46.0,34.0,19.0,50.0,-46.0,39.0,33.0,44.0,33.0,46.0,55.0,33.0,45.0,31.0,48.0,35.0,52.0,35.0,29.0,34.0,35.0,40.0,34.0,40.0,40.0,33.0,41.0,32.0,57.0,40.0,44.0,-36.0,30.0,46.0,41.0,18.0,57.0,45.0,34.0,44.0,42.0,42.0,29.0,null,41.0,50.0,39.0,42.0,28.0,38.0,46.0,31.0,34.0,28.0,24.0,29.0,43.0,35.0,29.0,59.0,30.0,44.0,41.0,40.0,19.0,50.0,41.0,47.0,49.0,55.0,28.0,30.0,-32.0,29.0,51.0,27.0,34.0,21.0,45.0,36.0,46.0,45.0,21.0,39.0,27.0,39.0,32.0,56.0,64.0,35.0,38.0,18.0,21.0,41.0,null,42.0,30.0,41.0,null,31.0,42.0,54.0,36.0,43.0,31.0,42.0,33.0,57.0,34.0,36.0,45.0,43.0,34.0,42.0,27.0,40.0,43.0,33.0,34.0,31.0,23.0,42.0,null,43.0,36.0,44.0,20.0,26.0,29.0,null,42.0,35.0,null,43.0,32.0,45.0,35.0,50.0,28.0,36.0,28.0,54.0,38.0,27.0,null,-43.0,19.0,36.0,29.0,36.0,39.0,37.0,35.0,39.0,55.0,50.0,34.0,45.0,44.0,34.0,37.0,43.0,30.0,35.0,36.0,35.0,null,42.0,38.0,44.0,63.0,null,40.0,43.0,48.0,42.0,27.0,31.0,39.0,null,23.0,29.0,29.0,null,63.0,41.0,39.0,47.0,55.0,41.0,48.0,32.0,28.0,47.0,46.0,45.0,39.0,30.0,33.0,null,32.0,39.0,30.0,36.0,27.0,37.0,null,20.0,44.0,44.0,38.0,26.0,26.0,61.0,18.0,27.0,null,62.0,54.0,43.0,31.0,21.0,42.0,30.0,52.0,19.0,40.0,47.0,48.0,46.0,41.0,39.0,47.0,41.0,41.0,38.0,34.0,24.0,26.0,34.0,36.0,28.0,27.0,34.0,47.0,18.0,28.0,39.0,50.0,59.0,34.0,34.0,36.0,40.0,37.0,39.0,24.0,21.0,45.0,36.0,46.0,40.0,23.0,53.0,38.0,30.0,32.0,null,41.0,36.0,58.0,43.0,57.0,null,34.0,46.0,43.0,37.0,27.0,18.0,35.0,36.0,39.0,23.0,29.0,41.0,43.0,40.0,34.0,26.0,47.0,45.0,32.0,46.0,37.0,31.0,47.0,39.0,33.0,25.0,26.0,46.0,42.0,26.0,26.0,59.0,42.0,50.0,52.0,28.0,55.0,27.0,45.0,36.0,45.0,35.0,43.0,null,49.0,37.0,28.0,35.0,42.0,44.0,48.0,30.0,28.0,27.0,36.0,40.0,41.0,23.0,28.0,30.0,55.0,34.0,23.0,41.0,null,26.0,33.0,34.0,36.0,47.0,43.0,39.0,47.0,33.0,30.0,null,40.0,23.0,52.0,27.0,43.0,43.0,18.0,40.0,54.0,30.0,19.0,36.0,42.0,37.0,28.0,27.0,21.0,19.0,34.0,42.0,39.0,40.0,44.0,51.0,38.0,41.0,41.0,39.0,38.0,39.0,53.0,52.0,20.0,40.0,38.0,50.0,37.0,40.0,31.0,46.0,25.0,34.0,27.0,34.0,32.0,46.0,35.0,52.0,35.0,27.0,35.0,null,54.0,31.0,54.0,36.0,33.0,45.0,52.0,43.0,23.0,41.0,59.0,18.0,null,35.0,null,48.0,20.0,34.0,48.0,46.0,43.0,39.0,36.0,33.0,28.0,46.0,40.0,46.0,30.0,29.0,42.0,18.0,18.0,48.0,30.0,null,41.0,48.0,33.0,34.0,31.0,44.0,44.0,50.0,25.0,60.0,34.0,37.0,39.0,28.0,33.0,52.0,52.0,40.0,48.0,42.0,37.0,30.0,null,30.0,54.0,46.0,52.0,41.0,29.0,44.0,50.0,44.0,-24.0,23.0,44.0,34.0,41.0,30.0,39.0,26.0,40.0,45.0,null,24.0,42.0,32.0,53.0,47.0,38.0,59.0,30.0,37.0,43.0,58.0,52.0,46.0,29.0,29.0,44.0,25.0,null,46.0,23.0,44.0,46.0,34.0,36.0,20.0,36.0,22.0,31.0,33.0,26.0,25.0,26.0,50.0,null,50.0,33.0,34.0,33.0,18.0,43.0,36.0,38.0,18.0,37.0,33.0,39.0,37.0,33.0,43.0,48.0,33.0,23.0,24.0,42.0,50.0,19.0,27.0,34.0,18.0,37.0,41.0,null,34.0,34.0,27.0,20.0,36.0,42.0,38.0,49.0,41.0,44.0,null,56.0,33.0,44.0,40.0,45.0,41.0,37.0,41.0,43.0,44.0,52.0,39.0,27.0,39.0,33.0,null,34.0,28.0,18.0,52.0,33.0,20.0,39.0,44.0,36.0,25.0,23.0,60.0,23.0,21.0,34.0,46.0,54.0,35.0,35.0,null,48.0,37.0,37.0,42.0,41.0,36.0,51.0,21.0,40.0,42.0,33.0,44.0,44.0,49.0,36.0,35.0,43.0,36.0,22.0,46.0,19.0,42.0,63.0,43.0,31.0,33.0,41.0,37.0,45.0,52.0,51.0,26.0,38.0,42.0,null,41.0,31.0,42.0,56.0,35.0,-30.0,37.0,31.0,46.0,31.0,50.0,42.0,44.0,44.0,46.0,34.0,28.0,33.0,47.0,20.0,18.0,40.0,46.0,47.0,28.0,26.0,31.0,34.0,34.0,39.0,52.0,37.0,47.0,44.0,30.0,44.0,43.0,37.0,39.0,37.0,27.0,61.0,-48.0,43.0,33.0,37.0,26.0,42.0,null,35.0,38.0,35.0,33.0,30.0,27.0,30.0,null,48.0,31.0,18.0,40.0,44.0,47.0,39.0,26.0,30.0,44.0,52.0,26.0,40.0,32.0,29.0,38.0,36.0,18.0,40.0,41.0,45.0,32.0,22.0,33.0,45.0,37.0,46.0,24.0,46.0,40.0,34.0,48.0,40.0,28.0,47.0,35.0,38.0,29.0,37.0,28.0,null,38.0,44.0,23.0,48.0,48.0,36.0,null,41.0,38.0,44.0,34.0,30.0,42.0,22.0,44.0,45.0,30.0,52.0,34.0,33.0,31.0,42.0,34.0,23.0,41.0,35.0,48.0,41.0,40.0,48.0,39.0,45.0,null,54.0,40.0,25.0,39.0,39.0,39.0,18.0,32.0,null,24.0,39.0,32.0,34.0,29.0,51.0,38.0,null,44.0,null,49.0,37.0,31.0,32.0,33.0,42.0,30.0,50.0,41.0,40.0,38.0,null,null,40.0,57.0,44.0,42.0,22.0,48.0,46.0,49.0,28.0,34.0,23.0,22.0,32.0,42.0,33.0,31.0,null,18.0,32.0,null,33.0,50.0,31.0,32.0,28.0,30.0,40.0,46.0,59.0,43.0,26.0,50.0,42.0,38.0,48.0,61.0,36.0,29.0,51.0,64.0,39.0,38.0,39.0,42.0,23.0,41.0,40.0,40.0,39.0,38.0,18.0,30.0,46.0,null,33.0,28.0,45.0,40.0,36.0,46.0,26.0,49.0,22.0,-29.0,27.0,32.0,41.0,44.0,37.0,25.0,18.0,46.0,45.0,48.0,36.0,44.0,31.0,42.0,33.0,29.0,40.0,39.0,47.0,25.0,47.0,39.0,48.0,48.0,18.0,48.0,48.0,25.0,22.0,null,39.0,31.0,52.0,41.0,18.0,27.0,48.0,38.0,30.0,42.0,31.0,25.0,48.0],\"xaxis\":\"x\",\"yaxis\":\"y\",\"type\":\"histogram\"}],                        {\"template\":{\"data\":{\"histogram2dcontour\":[{\"type\":\"histogram2dcontour\",\"colorbar\":{\"outlinewidth\":0,\"ticks\":\"\"},\"colorscale\":[[0.0,\"#0d0887\"],[0.1111111111111111,\"#46039f\"],[0.2222222222222222,\"#7201a8\"],[0.3333333333333333,\"#9c179e\"],[0.4444444444444444,\"#bd3786\"],[0.5555555555555556,\"#d8576b\"],[0.6666666666666666,\"#ed7953\"],[0.7777777777777778,\"#fb9f3a\"],[0.8888888888888888,\"#fdca26\"],[1.0,\"#f0f921\"]]}],\"choropleth\":[{\"type\":\"choropleth\",\"colorbar\":{\"outlinewidth\":0,\"ticks\":\"\"}}],\"histogram2d\":[{\"type\":\"histogram2d\",\"colorbar\":{\"outlinewidth\":0,\"ticks\":\"\"},\"colorscale\":[[0.0,\"#0d0887\"],[0.1111111111111111,\"#46039f\"],[0.2222222222222222,\"#7201a8\"],[0.3333333333333333,\"#9c179e\"],[0.4444444444444444,\"#bd3786\"],[0.5555555555555556,\"#d8576b\"],[0.6666666666666666,\"#ed7953\"],[0.7777777777777778,\"#fb9f3a\"],[0.8888888888888888,\"#fdca26\"],[1.0,\"#f0f921\"]]}],\"heatmap\":[{\"type\":\"heatmap\",\"colorbar\":{\"outlinewidth\":0,\"ticks\":\"\"},\"colorscale\":[[0.0,\"#0d0887\"],[0.1111111111111111,\"#46039f\"],[0.2222222222222222,\"#7201a8\"],[0.3333333333333333,\"#9c179e\"],[0.4444444444444444,\"#bd3786\"],[0.5555555555555556,\"#d8576b\"],[0.6666666666666666,\"#ed7953\"],[0.7777777777777778,\"#fb9f3a\"],[0.8888888888888888,\"#fdca26\"],[1.0,\"#f0f921\"]]}],\"heatmapgl\":[{\"type\":\"heatmapgl\",\"colorbar\":{\"outlinewidth\":0,\"ticks\":\"\"},\"colorscale\":[[0.0,\"#0d0887\"],[0.1111111111111111,\"#46039f\"],[0.2222222222222222,\"#7201a8\"],[0.3333333333333333,\"#9c179e\"],[0.4444444444444444,\"#bd3786\"],[0.5555555555555556,\"#d8576b\"],[0.6666666666666666,\"#ed7953\"],[0.7777777777777778,\"#fb9f3a\"],[0.8888888888888888,\"#fdca26\"],[1.0,\"#f0f921\"]]}],\"contourcarpet\":[{\"type\":\"contourcarpet\",\"colorbar\":{\"outlinewidth\":0,\"ticks\":\"\"}}],\"contour\":[{\"type\":\"contour\",\"colorbar\":{\"outlinewidth\":0,\"ticks\":\"\"},\"colorscale\":[[0.0,\"#0d0887\"],[0.1111111111111111,\"#46039f\"],[0.2222222222222222,\"#7201a8\"],[0.3333333333333333,\"#9c179e\"],[0.4444444444444444,\"#bd3786\"],[0.5555555555555556,\"#d8576b\"],[0.6666666666666666,\"#ed7953\"],[0.7777777777777778,\"#fb9f3a\"],[0.8888888888888888,\"#fdca26\"],[1.0,\"#f0f921\"]]}],\"surface\":[{\"type\":\"surface\",\"colorbar\":{\"outlinewidth\":0,\"ticks\":\"\"},\"colorscale\":[[0.0,\"#0d0887\"],[0.1111111111111111,\"#46039f\"],[0.2222222222222222,\"#7201a8\"],[0.3333333333333333,\"#9c179e\"],[0.4444444444444444,\"#bd3786\"],[0.5555555555555556,\"#d8576b\"],[0.6666666666666666,\"#ed7953\"],[0.7777777777777778,\"#fb9f3a\"],[0.8888888888888888,\"#fdca26\"],[1.0,\"#f0f921\"]]}],\"mesh3d\":[{\"type\":\"mesh3d\",\"colorbar\":{\"outlinewidth\":0,\"ticks\":\"\"}}],\"scatter\":[{\"fillpattern\":{\"fillmode\":\"overlay\",\"size\":10,\"solidity\":0.2},\"type\":\"scatter\"}],\"parcoords\":[{\"type\":\"parcoords\",\"line\":{\"colorbar\":{\"outlinewidth\":0,\"ticks\":\"\"}}}],\"scatterpolargl\":[{\"type\":\"scatterpolargl\",\"marker\":{\"colorbar\":{\"outlinewidth\":0,\"ticks\":\"\"}}}],\"bar\":[{\"error_x\":{\"color\":\"#2a3f5f\"},\"error_y\":{\"color\":\"#2a3f5f\"},\"marker\":{\"line\":{\"color\":\"#E5ECF6\",\"width\":0.5},\"pattern\":{\"fillmode\":\"overlay\",\"size\":10,\"solidity\":0.2}},\"type\":\"bar\"}],\"scattergeo\":[{\"type\":\"scattergeo\",\"marker\":{\"colorbar\":{\"outlinewidth\":0,\"ticks\":\"\"}}}],\"scatterpolar\":[{\"type\":\"scatterpolar\",\"marker\":{\"colorbar\":{\"outlinewidth\":0,\"ticks\":\"\"}}}],\"histogram\":[{\"marker\":{\"pattern\":{\"fillmode\":\"overlay\",\"size\":10,\"solidity\":0.2}},\"type\":\"histogram\"}],\"scattergl\":[{\"type\":\"scattergl\",\"marker\":{\"colorbar\":{\"outlinewidth\":0,\"ticks\":\"\"}}}],\"scatter3d\":[{\"type\":\"scatter3d\",\"line\":{\"colorbar\":{\"outlinewidth\":0,\"ticks\":\"\"}},\"marker\":{\"colorbar\":{\"outlinewidth\":0,\"ticks\":\"\"}}}],\"scattermapbox\":[{\"type\":\"scattermapbox\",\"marker\":{\"colorbar\":{\"outlinewidth\":0,\"ticks\":\"\"}}}],\"scatterternary\":[{\"type\":\"scatterternary\",\"marker\":{\"colorbar\":{\"outlinewidth\":0,\"ticks\":\"\"}}}],\"scattercarpet\":[{\"type\":\"scattercarpet\",\"marker\":{\"colorbar\":{\"outlinewidth\":0,\"ticks\":\"\"}}}],\"carpet\":[{\"aaxis\":{\"endlinecolor\":\"#2a3f5f\",\"gridcolor\":\"white\",\"linecolor\":\"white\",\"minorgridcolor\":\"white\",\"startlinecolor\":\"#2a3f5f\"},\"baxis\":{\"endlinecolor\":\"#2a3f5f\",\"gridcolor\":\"white\",\"linecolor\":\"white\",\"minorgridcolor\":\"white\",\"startlinecolor\":\"#2a3f5f\"},\"type\":\"carpet\"}],\"table\":[{\"cells\":{\"fill\":{\"color\":\"#EBF0F8\"},\"line\":{\"color\":\"white\"}},\"header\":{\"fill\":{\"color\":\"#C8D4E3\"},\"line\":{\"color\":\"white\"}},\"type\":\"table\"}],\"barpolar\":[{\"marker\":{\"line\":{\"color\":\"#E5ECF6\",\"width\":0.5},\"pattern\":{\"fillmode\":\"overlay\",\"size\":10,\"solidity\":0.2}},\"type\":\"barpolar\"}],\"pie\":[{\"automargin\":true,\"type\":\"pie\"}]},\"layout\":{\"autotypenumbers\":\"strict\",\"colorway\":[\"#636efa\",\"#EF553B\",\"#00cc96\",\"#ab63fa\",\"#FFA15A\",\"#19d3f3\",\"#FF6692\",\"#B6E880\",\"#FF97FF\",\"#FECB52\"],\"font\":{\"color\":\"#2a3f5f\"},\"hovermode\":\"closest\",\"hoverlabel\":{\"align\":\"left\"},\"paper_bgcolor\":\"white\",\"plot_bgcolor\":\"#E5ECF6\",\"polar\":{\"bgcolor\":\"#E5ECF6\",\"angularaxis\":{\"gridcolor\":\"white\",\"linecolor\":\"white\",\"ticks\":\"\"},\"radialaxis\":{\"gridcolor\":\"white\",\"linecolor\":\"white\",\"ticks\":\"\"}},\"ternary\":{\"bgcolor\":\"#E5ECF6\",\"aaxis\":{\"gridcolor\":\"white\",\"linecolor\":\"white\",\"ticks\":\"\"},\"baxis\":{\"gridcolor\":\"white\",\"linecolor\":\"white\",\"ticks\":\"\"},\"caxis\":{\"gridcolor\":\"white\",\"linecolor\":\"white\",\"ticks\":\"\"}},\"coloraxis\":{\"colorbar\":{\"outlinewidth\":0,\"ticks\":\"\"}},\"colorscale\":{\"sequential\":[[0.0,\"#0d0887\"],[0.1111111111111111,\"#46039f\"],[0.2222222222222222,\"#7201a8\"],[0.3333333333333333,\"#9c179e\"],[0.4444444444444444,\"#bd3786\"],[0.5555555555555556,\"#d8576b\"],[0.6666666666666666,\"#ed7953\"],[0.7777777777777778,\"#fb9f3a\"],[0.8888888888888888,\"#fdca26\"],[1.0,\"#f0f921\"]],\"sequentialminus\":[[0.0,\"#0d0887\"],[0.1111111111111111,\"#46039f\"],[0.2222222222222222,\"#7201a8\"],[0.3333333333333333,\"#9c179e\"],[0.4444444444444444,\"#bd3786\"],[0.5555555555555556,\"#d8576b\"],[0.6666666666666666,\"#ed7953\"],[0.7777777777777778,\"#fb9f3a\"],[0.8888888888888888,\"#fdca26\"],[1.0,\"#f0f921\"]],\"diverging\":[[0,\"#8e0152\"],[0.1,\"#c51b7d\"],[0.2,\"#de77ae\"],[0.3,\"#f1b6da\"],[0.4,\"#fde0ef\"],[0.5,\"#f7f7f7\"],[0.6,\"#e6f5d0\"],[0.7,\"#b8e186\"],[0.8,\"#7fbc41\"],[0.9,\"#4d9221\"],[1,\"#276419\"]]},\"xaxis\":{\"gridcolor\":\"white\",\"linecolor\":\"white\",\"ticks\":\"\",\"title\":{\"standoff\":15},\"zerolinecolor\":\"white\",\"automargin\":true,\"zerolinewidth\":2},\"yaxis\":{\"gridcolor\":\"white\",\"linecolor\":\"white\",\"ticks\":\"\",\"title\":{\"standoff\":15},\"zerolinecolor\":\"white\",\"automargin\":true,\"zerolinewidth\":2},\"scene\":{\"xaxis\":{\"backgroundcolor\":\"#E5ECF6\",\"gridcolor\":\"white\",\"linecolor\":\"white\",\"showbackground\":true,\"ticks\":\"\",\"zerolinecolor\":\"white\",\"gridwidth\":2},\"yaxis\":{\"backgroundcolor\":\"#E5ECF6\",\"gridcolor\":\"white\",\"linecolor\":\"white\",\"showbackground\":true,\"ticks\":\"\",\"zerolinecolor\":\"white\",\"gridwidth\":2},\"zaxis\":{\"backgroundcolor\":\"#E5ECF6\",\"gridcolor\":\"white\",\"linecolor\":\"white\",\"showbackground\":true,\"ticks\":\"\",\"zerolinecolor\":\"white\",\"gridwidth\":2}},\"shapedefaults\":{\"line\":{\"color\":\"#2a3f5f\"}},\"annotationdefaults\":{\"arrowcolor\":\"#2a3f5f\",\"arrowhead\":0,\"arrowwidth\":1},\"geo\":{\"bgcolor\":\"white\",\"landcolor\":\"#E5ECF6\",\"subunitcolor\":\"white\",\"showland\":true,\"showlakes\":true,\"lakecolor\":\"white\"},\"title\":{\"x\":0.05},\"mapbox\":{\"style\":\"light\"}}},\"xaxis\":{\"anchor\":\"y\",\"domain\":[0.0,1.0],\"title\":{\"text\":\"age\"}},\"yaxis\":{\"anchor\":\"x\",\"domain\":[0.0,1.0],\"title\":{\"text\":\"count\"}},\"legend\":{\"tracegroupgap\":0},\"title\":{\"text\":\"Age Distribution\"},\"barmode\":\"relative\"},                        {\"responsive\": true}                    ).then(function(){\n",
              "                            \n",
              "var gd = document.getElementById('d1fb069d-e186-4318-8a74-49b942b6a311');\n",
              "var x = new MutationObserver(function (mutations, observer) {{\n",
              "        var display = window.getComputedStyle(gd).display;\n",
              "        if (!display || display === 'none') {{\n",
              "            console.log([gd, 'removed!']);\n",
              "            Plotly.purge(gd);\n",
              "            observer.disconnect();\n",
              "        }}\n",
              "}});\n",
              "\n",
              "// Listen for the removal of the full notebook cells\n",
              "var notebookContainer = gd.closest('#notebook-container');\n",
              "if (notebookContainer) {{\n",
              "    x.observe(notebookContainer, {childList: true});\n",
              "}}\n",
              "\n",
              "// Listen for the clearing of the current output cell\n",
              "var outputEl = gd.closest('.output');\n",
              "if (outputEl) {{\n",
              "    x.observe(outputEl, {childList: true});\n",
              "}}\n",
              "\n",
              "                        })                };                            </script>        </div>\n",
              "</body>\n",
              "</html>"
            ]
          },
          "metadata": {}
        }
      ],
      "source": [
        "fig = px.histogram(df, x=\"age\", nbins=30, title=\"Age Distribution\")\n",
        "fig.show()\n",
        "#using here plotply (interactive)\n",
        "#there are ages in negative (need to be handled -> assume or see if there is a glitch)"
      ]
    },
    {
      "cell_type": "code",
      "execution_count": 54,
      "id": "9322da00",
      "metadata": {
        "colab": {
          "base_uri": "https://localhost:8080/",
          "height": 542
        },
        "id": "9322da00",
        "outputId": "b6beb7bc-05dd-485e-cd67-597597d16dce"
      },
      "outputs": [
        {
          "output_type": "display_data",
          "data": {
            "text/html": [
              "<html>\n",
              "<head><meta charset=\"utf-8\" /></head>\n",
              "<body>\n",
              "    <div>            <script src=\"https://cdnjs.cloudflare.com/ajax/libs/mathjax/2.7.5/MathJax.js?config=TeX-AMS-MML_SVG\"></script><script type=\"text/javascript\">if (window.MathJax && window.MathJax.Hub && window.MathJax.Hub.Config) {window.MathJax.Hub.Config({SVG: {font: \"STIX-Web\"}});}</script>                <script type=\"text/javascript\">window.PlotlyConfig = {MathJaxConfig: 'local'};</script>\n",
              "        <script charset=\"utf-8\" src=\"https://cdn.plot.ly/plotly-2.35.2.min.js\"></script>                <div id=\"fc7c534b-4bfe-4793-8be0-61e705542a58\" class=\"plotly-graph-div\" style=\"height:525px; width:100%;\"></div>            <script type=\"text/javascript\">                                    window.PLOTLYENV=window.PLOTLYENV || {};                                    if (document.getElementById(\"fc7c534b-4bfe-4793-8be0-61e705542a58\")) {                    Plotly.newPlot(                        \"fc7c534b-4bfe-4793-8be0-61e705542a58\",                        [{\"alignmentgroup\":\"True\",\"bingroup\":\"x\",\"hovertemplate\":\"income=%{x}\\u003cbr\\u003ecount=%{y}\\u003cextra\\u003e\\u003c\\u002fextra\\u003e\",\"legendgroup\":\"\",\"marker\":{\"color\":\"#636efa\",\"pattern\":{\"shape\":\"\"}},\"name\":\"\",\"nbinsx\":30,\"offsetgroup\":\"\",\"orientation\":\"v\",\"showlegend\":false,\"x\":[30250.0,18709.0,4563.0,48782.0,47630.0,32569.0,16524.0,14239.0,18144.0,6008.0,9122.0,8862.0,20435.0,15882.0,6830.0,4381.0,17135.0,6347.0,null,57961.0,67290.0,9756.0,3727.0,31182.0,16903.0,22902.0,8566.0,6458.0,11298.0,15093.0,8006.0,33112.0,3959.0,17791.0,14594.0,31356.0,6826.0,21896.0,18656.0,15849.0,7182.0,7776.0,10857.0,9396.0,32275.0,14689.0,23302.0,4837.0,3679.0,11796.0,5460.0,13737.0,7404.0,16553.0,7723.0,19786.0,7210.0,3622.0,24267.0,7800.0,34917.0,8526.0,7511.0,10950.0,9024.0,14593.0,17708.0,19692.0,12581.0,4672.0,44640.0,10316.0,9946.0,12553.0,11126.0,3927.0,19979.0,7522.0,10650.0,45777.0,25877.0,41296.0,-8317.0,22270.0,17717.0,12858.0,7899.0,28544.0,9321.0,14696.0,25315.0,6743.0,6235.0,77751.0,7317.0,41428.0,12873.0,9915.0,10629.0,12790.0,34082.0,22680.0,11520.0,3618.0,13553.0,14661.0,32239.0,null,9457.0,9250.0,12847.0,14238.0,18158.0,3546.0,15079.0,15866.0,14081.0,11797.0,1219.0,19884.0,6759.0,20529.0,32051.0,4132.0,20096.0,5625.0,12969.0,12232.0,22685.0,20446.0,16050.0,4228.0,2297.0,25300.0,22528.0,-6645.0,17036.0,11539.0,28582.0,14164.0,25091.0,null,16309.0,10007.0,8665.0,2615.0,25500.0,45468.0,5056.0,21709.0,21085.0,9318.0,7972.0,30526.0,28355.0,18325.0,9283.0,28641.0,7438.0,36114.0,41879.0,null,16982.0,2245.0,11738.0,45954.0,25743.0,18119.0,8295.0,27366.0,4442.0,11853.0,45157.0,7607.0,20464.0,3905.0,8462.0,15148.0,17111.0,56795.0,9387.0,20253.0,19860.0,8846.0,26086.0,21326.0,11032.0,15310.0,6824.0,7187.0,13159.0,22544.0,10578.0,8677.0,11367.0,null,5185.0,24414.0,19117.0,5168.0,11331.0,20852.0,3507.0,6472.0,4600.0,8914.0,null,23360.0,9378.0,27453.0,21255.0,32617.0,12556.0,19484.0,141531.0,10756.0,12765.0,11953.0,12539.0,19745.0,13914.0,5138.0,13529.0,9242.0,3983.0,29777.0,9206.0,17472.0,1468.0,18944.0,10727.0,4498.0,9078.0,8263.0,22594.0,14232.0,4602.0,18159.0,3135.0,6078.0,13497.0,8629.0,30767.0,15040.0,20705.0,21305.0,9796.0,6337.0,-12900.0,24515.0,11351.0,20204.0,13107.0,4504.0,4780.0,39884.0,5900.0,8549.0,25395.0,5797.0,8279.0,11520.0,10513.0,6772.0,11667.0,21490.0,12258.0,-8425.0,25906.0,44113.0,26071.0,6085.0,6199.0,18140.0,15059.0,5668.0,16325.0,14317.0,37591.0,9849.0,null,36362.0,8340.0,17116.0,11521.0,11195.0,15872.0,7685.0,4373.0,9206.0,30534.0,11587.0,13144.0,23268.0,4367.0,18167.0,42997.0,14243.0,3476.0,12664.0,null,14450.0,16166.0,17585.0,6956.0,7592.0,10313.0,null,5811.0,56355.0,2449.0,4045.0,19684.0,18532.0,12699.0,null,19878.0,13360.0,16119.0,1482.0,12170.0,12921.0,null,7495.0,13028.0,36190.0,19773.0,13597.0,26202.0,7670.0,null,20946.0,4280.0,8746.0,null,23319.0,19820.0,9679.0,30953.0,12600.0,83815.0,5769.0,20935.0,10115.0,8317.0,-11835.0,17273.0,13916.0,21469.0,20432.0,36901.0,5762.0,4491.0,12740.0,7665.0,24630.0,6326.0,9093.0,10586.0,45975.0,58415.0,6009.0,2872.0,8939.0,13018.0,12977.0,12595.0,23650.0,null,15511.0,20978.0,15577.0,21439.0,4041.0,14474.0,15691.0,11897.0,8792.0,18450.0,14560.0,12876.0,10616.0,10911.0,7818.0,9576.0,6922.0,10188.0,17240.0,23713.0,12889.0,12642.0,14776.0,26591.0,11412.0,18472.0,17316.0,8634.0,21909.0,3132.0,28091.0,5791.0,12120.0,23867.0,9907.0,15739.0,24139.0,48715.0,13219.0,15151.0,13743.0,11442.0,5208.0,6096.0,13226.0,16962.0,32305.0,11535.0,38951.0,5749.0,15476.0,11080.0,5330.0,4084.0,9854.0,10385.0,7174.0,22768.0,10056.0,6696.0,11325.0,8587.0,42314.0,10714.0,7027.0,42259.0,22192.0,14391.0,7651.0,22847.0,4796.0,21704.0,15916.0,26716.0,2559.0,7013.0,6635.0,6108.0,17988.0,10864.0,7259.0,6172.0,6817.0,24490.0,12750.0,23907.0,86272.0,13193.0,4954.0,12137.0,49779.0,28587.0,8499.0,10798.0,22982.0,18689.0,23155.0,11301.0,17536.0,10789.0,35433.0,4589.0,4599.0,8101.0,8309.0,4589.0,4045.0,28224.0,11885.0,11272.0,13896.0,40892.0,14492.0,12358.0,8549.0,20318.0,12771.0,42467.0,11937.0,27047.0,8121.0,8065.0,3719.0,23298.0,13006.0,20903.0,43797.0,7385.0,6643.0,7700.0,3064.0,11669.0,24808.0,13826.0,4448.0,10406.0,null,null,23330.0,10489.0,10476.0,20249.0,8819.0,24312.0,8422.0,39568.0,15751.0,3388.0,20916.0,15968.0,18775.0,64622.0,11126.0,4506.0,32444.0,3844.0,7922.0,13759.0,7121.0,null,12148.0,39146.0,2452.0,14202.0,7012.0,9011.0,21505.0,19199.0,16983.0,5538.0,30648.0,7237.0,35258.0,8479.0,27490.0,14345.0,4138.0,10416.0,43986.0,23775.0,9852.0,33274.0,16273.0,42191.0,12639.0,10891.0,26681.0,15937.0,19737.0,7304.0,30328.0,26571.0,34409.0,5157.0,5920.0,7920.0,11298.0,5255.0,20870.0,9830.0,32182.0,58060.0,8814.0,7807.0,22541.0,14298.0,17305.0,33879.0,11046.0,6335.0,-5645.0,11800.0,10443.0,24475.0,35409.0,35312.0,8178.0,7613.0,3754.0,13388.0,24817.0,8146.0,4740.0,50015.0,8155.0,12349.0,9638.0,5253.0,25117.0,3927.0,29349.0,16117.0,11069.0,11199.0,18361.0,8518.0,15119.0,7174.0,2963.0,20576.0,73571.0,19855.0,12923.0,10121.0,10345.0,10120.0,15356.0,2513.0,2225.0,18321.0,11621.0,6700.0,6573.0,9041.0,9968.0,36182.0,6316.0,22805.0,20194.0,11537.0,22822.0,18199.0,5545.0,8819.0,17526.0,8790.0,20486.0,30144.0,13108.0,8741.0,8072.0,10352.0,9858.0,24460.0,8861.0,11813.0,23058.0,10604.0,9789.0,24586.0,30091.0,13723.0,42722.0,15003.0,24672.0,52496.0,8603.0,9274.0,23378.0,11939.0,6914.0,10462.0,4962.0,13591.0,null,28551.0,30526.0,10699.0,58414.0,6299.0,5013.0,5599.0,5884.0,22712.0,43369.0,44634.0,3571.0,24337.0,38907.0,26864.0,8575.0,15031.0,6863.0,22543.0,4795.0,21585.0,8127.0,17227.0,11187.0,10381.0,25919.0,38891.0,7291.0,15224.0,6244.0,9678.0,null,5533.0,28042.0,14363.0,9111.0,12826.0,30866.0,27429.0,19748.0,8361.0,14523.0,6224.0,12567.0,26491.0,30159.0,8518.0,23928.0,20723.0,11288.0,22522.0,31520.0,24232.0,6389.0,10996.0,17671.0,7612.0,39757.0,16637.0,9725.0,9309.0,8212.0,21896.0,23798.0,8394.0,37364.0,10189.0,7647.0,18658.0,5769.0,5138.0,6854.0,7710.0,22576.0,5391.0,17294.0,24078.0,36727.0,9468.0,10008.0,55576.0,34447.0,11023.0,29812.0,15886.0,13513.0,75983.0,28349.0,null,6351.0,47020.0,11974.0,11867.0,17551.0,19123.0,27961.0,24796.0,8456.0,6650.0,11685.0,13234.0,14219.0,34781.0,15200.0,84624.0,36756.0,10818.0,3855.0,71086.0,10963.0,25595.0,8374.0,40906.0,24183.0,6241.0,3400.0,15246.0,18920.0,22786.0,7750.0,8513.0,3558.0,9077.0,4264.0,8112.0,16809.0,16640.0,8334.0,16162.0,37594.0,10995.0,5457.0,23154.0,28693.0,8204.0,8247.0,3333.0,9676.0,7002.0,4600.0,10349.0,13313.0,11713.0,10649.0,38833.0,16567.0,21067.0,47450.0,26657.0,11031.0,3651.0,10301.0,37005.0,26526.0,10330.0,12640.0,14610.0,8680.0,9051.0,8482.0,18856.0,6379.0,36655.0,13301.0,6160.0,27397.0,38185.0,120424.0,34875.0,7239.0,15476.0,78441.0,7748.0,5491.0,10168.0,6566.0,8731.0,8409.0,22053.0,5390.0,14641.0,7820.0,19633.0,21188.0,24954.0,24951.0,8649.0,13319.0,37374.0,18202.0,24864.0,5699.0,26043.0,3567.0,4581.0,7118.0,17996.0,20286.0,7556.0,3472.0,26041.0,20157.0,18024.0,51465.0,14838.0,-6671.0,33864.0,10044.0,12411.0,9177.0,7460.0,9945.0,38732.0,6332.0,28244.0,3661.0,-40973.0,44091.0,6524.0,14118.0,20966.0,8752.0,49907.0,13563.0,9282.0,14117.0,7979.0,13556.0,9751.0,7744.0,23347.0,4085.0,45887.0,15697.0,48678.0,26197.0,5216.0,14037.0,3802.0,7097.0,12139.0,8155.0,9570.0,8375.0,63598.0,14518.0,20669.0,12884.0,16918.0,3169.0,43023.0,8060.0,29793.0,30616.0,3793.0,13894.0,17742.0,14427.0,13350.0,9847.0,8105.0,28018.0,17648.0,15210.0,4355.0,11162.0,12847.0,24065.0,3942.0,6203.0,47056.0,7645.0,3655.0,8195.0,7664.0,21073.0,20893.0,6778.0,10247.0,19454.0,19916.0,6475.0,6996.0,58772.0,11138.0,38002.0,15678.0,28753.0,20696.0,15058.0,14934.0,5605.0,11888.0,9270.0,10620.0,10314.0,14968.0,20880.0,12133.0,26066.0,9988.0,14195.0,78147.0,5761.0,9946.0,3751.0,15676.0,13515.0,-14588.0,7057.0,7838.0,13874.0,5004.0,24761.0,5046.0,12020.0,9847.0,9414.0,4341.0,12952.0,-5735.0,14737.0,7850.0,12897.0,3759.0,25300.0,28780.0,9077.0,94938.0,22754.0,11150.0,9474.0,7731.0,8835.0,12370.0,12956.0,4999.0,34486.0,23172.0,48682.0,17283.0,27797.0,5568.0,20364.0,3811.0,6767.0],\"xaxis\":\"x\",\"yaxis\":\"y\",\"type\":\"histogram\"}],                        {\"template\":{\"data\":{\"histogram2dcontour\":[{\"type\":\"histogram2dcontour\",\"colorbar\":{\"outlinewidth\":0,\"ticks\":\"\"},\"colorscale\":[[0.0,\"#0d0887\"],[0.1111111111111111,\"#46039f\"],[0.2222222222222222,\"#7201a8\"],[0.3333333333333333,\"#9c179e\"],[0.4444444444444444,\"#bd3786\"],[0.5555555555555556,\"#d8576b\"],[0.6666666666666666,\"#ed7953\"],[0.7777777777777778,\"#fb9f3a\"],[0.8888888888888888,\"#fdca26\"],[1.0,\"#f0f921\"]]}],\"choropleth\":[{\"type\":\"choropleth\",\"colorbar\":{\"outlinewidth\":0,\"ticks\":\"\"}}],\"histogram2d\":[{\"type\":\"histogram2d\",\"colorbar\":{\"outlinewidth\":0,\"ticks\":\"\"},\"colorscale\":[[0.0,\"#0d0887\"],[0.1111111111111111,\"#46039f\"],[0.2222222222222222,\"#7201a8\"],[0.3333333333333333,\"#9c179e\"],[0.4444444444444444,\"#bd3786\"],[0.5555555555555556,\"#d8576b\"],[0.6666666666666666,\"#ed7953\"],[0.7777777777777778,\"#fb9f3a\"],[0.8888888888888888,\"#fdca26\"],[1.0,\"#f0f921\"]]}],\"heatmap\":[{\"type\":\"heatmap\",\"colorbar\":{\"outlinewidth\":0,\"ticks\":\"\"},\"colorscale\":[[0.0,\"#0d0887\"],[0.1111111111111111,\"#46039f\"],[0.2222222222222222,\"#7201a8\"],[0.3333333333333333,\"#9c179e\"],[0.4444444444444444,\"#bd3786\"],[0.5555555555555556,\"#d8576b\"],[0.6666666666666666,\"#ed7953\"],[0.7777777777777778,\"#fb9f3a\"],[0.8888888888888888,\"#fdca26\"],[1.0,\"#f0f921\"]]}],\"heatmapgl\":[{\"type\":\"heatmapgl\",\"colorbar\":{\"outlinewidth\":0,\"ticks\":\"\"},\"colorscale\":[[0.0,\"#0d0887\"],[0.1111111111111111,\"#46039f\"],[0.2222222222222222,\"#7201a8\"],[0.3333333333333333,\"#9c179e\"],[0.4444444444444444,\"#bd3786\"],[0.5555555555555556,\"#d8576b\"],[0.6666666666666666,\"#ed7953\"],[0.7777777777777778,\"#fb9f3a\"],[0.8888888888888888,\"#fdca26\"],[1.0,\"#f0f921\"]]}],\"contourcarpet\":[{\"type\":\"contourcarpet\",\"colorbar\":{\"outlinewidth\":0,\"ticks\":\"\"}}],\"contour\":[{\"type\":\"contour\",\"colorbar\":{\"outlinewidth\":0,\"ticks\":\"\"},\"colorscale\":[[0.0,\"#0d0887\"],[0.1111111111111111,\"#46039f\"],[0.2222222222222222,\"#7201a8\"],[0.3333333333333333,\"#9c179e\"],[0.4444444444444444,\"#bd3786\"],[0.5555555555555556,\"#d8576b\"],[0.6666666666666666,\"#ed7953\"],[0.7777777777777778,\"#fb9f3a\"],[0.8888888888888888,\"#fdca26\"],[1.0,\"#f0f921\"]]}],\"surface\":[{\"type\":\"surface\",\"colorbar\":{\"outlinewidth\":0,\"ticks\":\"\"},\"colorscale\":[[0.0,\"#0d0887\"],[0.1111111111111111,\"#46039f\"],[0.2222222222222222,\"#7201a8\"],[0.3333333333333333,\"#9c179e\"],[0.4444444444444444,\"#bd3786\"],[0.5555555555555556,\"#d8576b\"],[0.6666666666666666,\"#ed7953\"],[0.7777777777777778,\"#fb9f3a\"],[0.8888888888888888,\"#fdca26\"],[1.0,\"#f0f921\"]]}],\"mesh3d\":[{\"type\":\"mesh3d\",\"colorbar\":{\"outlinewidth\":0,\"ticks\":\"\"}}],\"scatter\":[{\"fillpattern\":{\"fillmode\":\"overlay\",\"size\":10,\"solidity\":0.2},\"type\":\"scatter\"}],\"parcoords\":[{\"type\":\"parcoords\",\"line\":{\"colorbar\":{\"outlinewidth\":0,\"ticks\":\"\"}}}],\"scatterpolargl\":[{\"type\":\"scatterpolargl\",\"marker\":{\"colorbar\":{\"outlinewidth\":0,\"ticks\":\"\"}}}],\"bar\":[{\"error_x\":{\"color\":\"#2a3f5f\"},\"error_y\":{\"color\":\"#2a3f5f\"},\"marker\":{\"line\":{\"color\":\"#E5ECF6\",\"width\":0.5},\"pattern\":{\"fillmode\":\"overlay\",\"size\":10,\"solidity\":0.2}},\"type\":\"bar\"}],\"scattergeo\":[{\"type\":\"scattergeo\",\"marker\":{\"colorbar\":{\"outlinewidth\":0,\"ticks\":\"\"}}}],\"scatterpolar\":[{\"type\":\"scatterpolar\",\"marker\":{\"colorbar\":{\"outlinewidth\":0,\"ticks\":\"\"}}}],\"histogram\":[{\"marker\":{\"pattern\":{\"fillmode\":\"overlay\",\"size\":10,\"solidity\":0.2}},\"type\":\"histogram\"}],\"scattergl\":[{\"type\":\"scattergl\",\"marker\":{\"colorbar\":{\"outlinewidth\":0,\"ticks\":\"\"}}}],\"scatter3d\":[{\"type\":\"scatter3d\",\"line\":{\"colorbar\":{\"outlinewidth\":0,\"ticks\":\"\"}},\"marker\":{\"colorbar\":{\"outlinewidth\":0,\"ticks\":\"\"}}}],\"scattermapbox\":[{\"type\":\"scattermapbox\",\"marker\":{\"colorbar\":{\"outlinewidth\":0,\"ticks\":\"\"}}}],\"scatterternary\":[{\"type\":\"scatterternary\",\"marker\":{\"colorbar\":{\"outlinewidth\":0,\"ticks\":\"\"}}}],\"scattercarpet\":[{\"type\":\"scattercarpet\",\"marker\":{\"colorbar\":{\"outlinewidth\":0,\"ticks\":\"\"}}}],\"carpet\":[{\"aaxis\":{\"endlinecolor\":\"#2a3f5f\",\"gridcolor\":\"white\",\"linecolor\":\"white\",\"minorgridcolor\":\"white\",\"startlinecolor\":\"#2a3f5f\"},\"baxis\":{\"endlinecolor\":\"#2a3f5f\",\"gridcolor\":\"white\",\"linecolor\":\"white\",\"minorgridcolor\":\"white\",\"startlinecolor\":\"#2a3f5f\"},\"type\":\"carpet\"}],\"table\":[{\"cells\":{\"fill\":{\"color\":\"#EBF0F8\"},\"line\":{\"color\":\"white\"}},\"header\":{\"fill\":{\"color\":\"#C8D4E3\"},\"line\":{\"color\":\"white\"}},\"type\":\"table\"}],\"barpolar\":[{\"marker\":{\"line\":{\"color\":\"#E5ECF6\",\"width\":0.5},\"pattern\":{\"fillmode\":\"overlay\",\"size\":10,\"solidity\":0.2}},\"type\":\"barpolar\"}],\"pie\":[{\"automargin\":true,\"type\":\"pie\"}]},\"layout\":{\"autotypenumbers\":\"strict\",\"colorway\":[\"#636efa\",\"#EF553B\",\"#00cc96\",\"#ab63fa\",\"#FFA15A\",\"#19d3f3\",\"#FF6692\",\"#B6E880\",\"#FF97FF\",\"#FECB52\"],\"font\":{\"color\":\"#2a3f5f\"},\"hovermode\":\"closest\",\"hoverlabel\":{\"align\":\"left\"},\"paper_bgcolor\":\"white\",\"plot_bgcolor\":\"#E5ECF6\",\"polar\":{\"bgcolor\":\"#E5ECF6\",\"angularaxis\":{\"gridcolor\":\"white\",\"linecolor\":\"white\",\"ticks\":\"\"},\"radialaxis\":{\"gridcolor\":\"white\",\"linecolor\":\"white\",\"ticks\":\"\"}},\"ternary\":{\"bgcolor\":\"#E5ECF6\",\"aaxis\":{\"gridcolor\":\"white\",\"linecolor\":\"white\",\"ticks\":\"\"},\"baxis\":{\"gridcolor\":\"white\",\"linecolor\":\"white\",\"ticks\":\"\"},\"caxis\":{\"gridcolor\":\"white\",\"linecolor\":\"white\",\"ticks\":\"\"}},\"coloraxis\":{\"colorbar\":{\"outlinewidth\":0,\"ticks\":\"\"}},\"colorscale\":{\"sequential\":[[0.0,\"#0d0887\"],[0.1111111111111111,\"#46039f\"],[0.2222222222222222,\"#7201a8\"],[0.3333333333333333,\"#9c179e\"],[0.4444444444444444,\"#bd3786\"],[0.5555555555555556,\"#d8576b\"],[0.6666666666666666,\"#ed7953\"],[0.7777777777777778,\"#fb9f3a\"],[0.8888888888888888,\"#fdca26\"],[1.0,\"#f0f921\"]],\"sequentialminus\":[[0.0,\"#0d0887\"],[0.1111111111111111,\"#46039f\"],[0.2222222222222222,\"#7201a8\"],[0.3333333333333333,\"#9c179e\"],[0.4444444444444444,\"#bd3786\"],[0.5555555555555556,\"#d8576b\"],[0.6666666666666666,\"#ed7953\"],[0.7777777777777778,\"#fb9f3a\"],[0.8888888888888888,\"#fdca26\"],[1.0,\"#f0f921\"]],\"diverging\":[[0,\"#8e0152\"],[0.1,\"#c51b7d\"],[0.2,\"#de77ae\"],[0.3,\"#f1b6da\"],[0.4,\"#fde0ef\"],[0.5,\"#f7f7f7\"],[0.6,\"#e6f5d0\"],[0.7,\"#b8e186\"],[0.8,\"#7fbc41\"],[0.9,\"#4d9221\"],[1,\"#276419\"]]},\"xaxis\":{\"gridcolor\":\"white\",\"linecolor\":\"white\",\"ticks\":\"\",\"title\":{\"standoff\":15},\"zerolinecolor\":\"white\",\"automargin\":true,\"zerolinewidth\":2},\"yaxis\":{\"gridcolor\":\"white\",\"linecolor\":\"white\",\"ticks\":\"\",\"title\":{\"standoff\":15},\"zerolinecolor\":\"white\",\"automargin\":true,\"zerolinewidth\":2},\"scene\":{\"xaxis\":{\"backgroundcolor\":\"#E5ECF6\",\"gridcolor\":\"white\",\"linecolor\":\"white\",\"showbackground\":true,\"ticks\":\"\",\"zerolinecolor\":\"white\",\"gridwidth\":2},\"yaxis\":{\"backgroundcolor\":\"#E5ECF6\",\"gridcolor\":\"white\",\"linecolor\":\"white\",\"showbackground\":true,\"ticks\":\"\",\"zerolinecolor\":\"white\",\"gridwidth\":2},\"zaxis\":{\"backgroundcolor\":\"#E5ECF6\",\"gridcolor\":\"white\",\"linecolor\":\"white\",\"showbackground\":true,\"ticks\":\"\",\"zerolinecolor\":\"white\",\"gridwidth\":2}},\"shapedefaults\":{\"line\":{\"color\":\"#2a3f5f\"}},\"annotationdefaults\":{\"arrowcolor\":\"#2a3f5f\",\"arrowhead\":0,\"arrowwidth\":1},\"geo\":{\"bgcolor\":\"white\",\"landcolor\":\"#E5ECF6\",\"subunitcolor\":\"white\",\"showland\":true,\"showlakes\":true,\"lakecolor\":\"white\"},\"title\":{\"x\":0.05},\"mapbox\":{\"style\":\"light\"}}},\"xaxis\":{\"anchor\":\"y\",\"domain\":[0.0,1.0],\"title\":{\"text\":\"income\"}},\"yaxis\":{\"anchor\":\"x\",\"domain\":[0.0,1.0],\"title\":{\"text\":\"count\"}},\"legend\":{\"tracegroupgap\":0},\"title\":{\"text\":\"Income Distribution\"},\"barmode\":\"relative\"},                        {\"responsive\": true}                    ).then(function(){\n",
              "                            \n",
              "var gd = document.getElementById('fc7c534b-4bfe-4793-8be0-61e705542a58');\n",
              "var x = new MutationObserver(function (mutations, observer) {{\n",
              "        var display = window.getComputedStyle(gd).display;\n",
              "        if (!display || display === 'none') {{\n",
              "            console.log([gd, 'removed!']);\n",
              "            Plotly.purge(gd);\n",
              "            observer.disconnect();\n",
              "        }}\n",
              "}});\n",
              "\n",
              "// Listen for the removal of the full notebook cells\n",
              "var notebookContainer = gd.closest('#notebook-container');\n",
              "if (notebookContainer) {{\n",
              "    x.observe(notebookContainer, {childList: true});\n",
              "}}\n",
              "\n",
              "// Listen for the clearing of the current output cell\n",
              "var outputEl = gd.closest('.output');\n",
              "if (outputEl) {{\n",
              "    x.observe(outputEl, {childList: true});\n",
              "}}\n",
              "\n",
              "                        })                };                            </script>        </div>\n",
              "</body>\n",
              "</html>"
            ]
          },
          "metadata": {}
        }
      ],
      "source": [
        "# TODO: Create a histogram to visualize income distribution\n",
        "fig = px.histogram(df, x=\"income\", nbins=30, title=\"Income Distribution\")\n",
        "fig.show()\n",
        "#income is righlty skewed (need to be handles later on)"
      ]
    },
    {
      "cell_type": "code",
      "execution_count": 55,
      "id": "558060c7",
      "metadata": {
        "colab": {
          "base_uri": "https://localhost:8080/",
          "height": 542
        },
        "id": "558060c7",
        "outputId": "7632a46d-e1c5-4ef9-8ebd-7fc4ed7a5b99"
      },
      "outputs": [
        {
          "output_type": "display_data",
          "data": {
            "text/html": [
              "<html>\n",
              "<head><meta charset=\"utf-8\" /></head>\n",
              "<body>\n",
              "    <div>            <script src=\"https://cdnjs.cloudflare.com/ajax/libs/mathjax/2.7.5/MathJax.js?config=TeX-AMS-MML_SVG\"></script><script type=\"text/javascript\">if (window.MathJax && window.MathJax.Hub && window.MathJax.Hub.Config) {window.MathJax.Hub.Config({SVG: {font: \"STIX-Web\"}});}</script>                <script type=\"text/javascript\">window.PlotlyConfig = {MathJaxConfig: 'local'};</script>\n",
              "        <script charset=\"utf-8\" src=\"https://cdn.plot.ly/plotly-2.35.2.min.js\"></script>                <div id=\"251b6ce6-f2f2-42bd-a24a-822a34b6599f\" class=\"plotly-graph-div\" style=\"height:525px; width:100%;\"></div>            <script type=\"text/javascript\">                                    window.PLOTLYENV=window.PLOTLYENV || {};                                    if (document.getElementById(\"251b6ce6-f2f2-42bd-a24a-822a34b6599f\")) {                    Plotly.newPlot(                        \"251b6ce6-f2f2-42bd-a24a-822a34b6599f\",                        [{\"alignmentgroup\":\"True\",\"bingroup\":\"x\",\"hovertemplate\":\"monthly_balance=%{x}\\u003cbr\\u003ecount=%{y}\\u003cextra\\u003e\\u003c\\u002fextra\\u003e\",\"legendgroup\":\"\",\"marker\":{\"color\":\"#636efa\",\"pattern\":{\"shape\":\"\"}},\"name\":\"\",\"nbinsx\":30,\"offsetgroup\":\"\",\"orientation\":\"v\",\"showlegend\":false,\"x\":[2541,2692,2957,2398,4165,1395,1827,3181,2448,1336,3797,2141,1732,2738,1660,2948,2460,2231,2240,4493,3553,436,4324,3774,3686,4331,3022,3930,2303,4271,3327,934,4554,2806,2597,2335,2445,3344,1518,647,1403,3572,2757,4669,2902,4263,1960,2347,3014,2779,2639,1691,621,3946,3778,2079,3568,2750,4659,1031,2809,2690,3241,5305,2814,4114,2778,4606,4129,2500,2392,3730,2016,3285,2466,3552,2758,1961,4657,3359,2919,3629,493,6135,3037,55,4795,1872,4565,3182,644,3391,3281,4727,3783,1140,4503,2378,5580,2467,2683,1767,2252,1855,4764,1002,4206,4242,5066,3065,1459,2742,3892,3127,3550,5047,3873,3297,233,1824,2392,34,1336,2597,2841,3758,2692,3372,2373,3063,3676,5208,2228,3216,4303,840,5996,4768,432,3557,2153,2403,3525,4575,2301,2321,3558,3857,1489,5585,2035,4447,3677,3909,2064,414,2967,2974,1562,4376,2922,1786,3877,3917,1925,4850,6364,1364,2724,3505,6420,1899,1590,1580,4832,1938,1724,3346,3462,4606,3137,3373,2842,1043,2700,3094,2334,653,1297,2940,4399,5523,2724,1924,2441,1430,4181,6206,1961,1211,4509,3477,3502,5382,950,908,2757,3095,2467,6691,2534,2173,3186,4456,1911,2779,4498,4582,3326,6627,5970,890,462,4193,5048,2662,2246,1769,1247,4704,2428,3452,261,4503,3881,982,3388,3007,2324,-1354,2009,3453,2177,2667,5245,2883,-145,2722,3149,1761,4102,806,2793,789,2556,4062,2757,2669,3041,3116,4040,4049,5132,3251,508,4286,5024,6692,5177,2264,3280,2594,2390,2829,4928,616,1496,4829,5180,2010,5476,4463,2598,-6520,497,2012,4139,4144,2300,2653,2951,2671,3245,2954,488,2688,2966,4484,1753,3305,3844,2777,367,4515,4120,3343,3060,327,4161,5229,1329,5017,4697,1285,2408,906,2902,3672,1019,3578,3958,3980,3681,1157,2817,3528,5191,3003,3638,1601,1267,1075,2369,6093,2396,3546,3835,1362,2347,3936,3642,9,3891,2173,2212,3607,5284,2699,4768,838,3196,2188,3423,2555,988,1668,535,1039,3720,2623,3346,5723,2556,3951,3042,7144,-1526,1923,3981,1870,3849,2909,4297,1301,3259,3699,3197,3224,4803,480,3187,1186,4136,1743,-708,4172,2597,3534,5140,3557,3254,2929,1279,2677,5960,2437,2765,4885,688,3930,616,3598,2966,3918,1481,2197,3996,2235,4133,3313,2331,2526,3005,2669,4095,2443,2140,4365,2366,2189,-728,1440,1742,2189,1916,4474,1837,1949,3233,13470,5345,4203,1247,4520,4832,1286,1252,2084,877,1829,2399,3756,3121,2777,2275,1038,3887,3854,2074,1348,5334,3370,3595,3660,1196,5248,2394,4233,5187,3122,1227,-740,2942,3375,2128,3203,3645,4490,2657,2931,2732,3050,2230,2223,2317,3234,1729,2323,5712,4344,1564,4297,3941,2844,1938,1767,3335,1730,4645,5071,2935,4708,2382,1928,4650,5369,5944,3498,4293,3465,5105,3649,4207,1296,2653,4220,4085,4348,3180,2021,2911,3070,3362,1548,2601,2866,-363,4248,3246,3397,2226,3879,1752,1987,3942,3535,1083,5366,1862,2801,5620,-89,440,3662,-717,-65,4762,2386,6294,1447,2522,3810,3707,2617,2027,3347,5065,4144,2051,1512,1960,1089,3221,4220,2892,5579,5663,3461,4052,1649,2458,4908,2131,5231,4668,4127,1240,2532,3966,1521,2714,4128,2147,1730,298,2420,4159,1690,3026,2663,2000,4256,5463,4506,1956,5988,4502,2313,1837,4681,3260,1723,2777,2389,1763,4521,4172,4257,4237,1625,2094,5187,3162,794,3325,3982,3786,1593,5830,749,3166,5604,3887,4254,1420,3520,2945,1304,4297,1770,1948,3648,2785,3253,2693,5119,1612,2302,3721,1518,1451,3206,4301,4496,3137,1991,3413,3849,3392,4851,1478,1954,4643,790,2190,1902,653,2719,4119,3234,4199,4787,2421,6970,2481,2681,1938,3818,2564,2881,2692,2658,3237,2324,2395,4609,2559,3575,1665,23320,1151,5781,5063,3893,6226,4155,2742,3558,5041,1679,1240,3609,2119,-389,1135,2532,3072,3116,6007,2688,3417,561,2953,3501,937,1599,3733,2180,2846,3811,6055,2667,5653,61,3222,2498,2201,3987,2678,-37,617,4083,544,4123,3187,2744,2877,3772,1233,3063,1290,3245,3969,3248,3912,1949,2906,2643,2544,1799,2352,1330,458,1948,3938,3351,1115,2390,4038,2327,873,6386,2749,1254,3256,2871,687,3140,4475,2650,-90,3512,3904,2120,2131,6386,2012,1317,3037,3862,3798,-702,2008,4729,3490,1146,4863,4447,2555,4319,5999,1418,3833,5978,3979,1868,3358,5054,1476,29540,2634,2052,3362,2848,3965,4711,1090,3101,2920,3305,2976,1529,5182,5821,3820,3897,3196,4453,-664,2994,2141,3218,4638,3028,2459,895,2836,4008,1738,-5,6411,3502,2667,5086,3212,4998,4869,1088,3689,5587,1502,1520,1774,4335,3426,96,3511,2622,2831,1744,3522,4575,2037,476,2545,4134,2368,753,4144,5123,3030,591,2523,3227,1785,3875,1638,3038,2657,3923,2978,2705,1795,3052,2609,1694,3239,3545,2492,4397,3395,1074,5006,4150,4502,3600,-506,4638,3091,3529,3810,5904,2180,2219,1723,1395,1422,222,3639,5981,6077,1721,2591,4850,3648,3201,2614,4767,1390,3721,3517,3065,4181,3050,2198,3138,6110,3919,4302,2015,1658,2070,2905,3323,5423,5233,4247,3181,1609,5519,2628,3422,3941,3092,4726,3683,4482,3671,2943,3111,2906,1073,1498,4110,1110,2393,1424,2313,2767,2390,857,2721,1561,2045,4110,4433,1033,5352,2234,2098,1662,3083,5972,690,-85,3402,3854,3079,3893,1303,1582,3185,5637,3841,3910,1389,3633,1226,5651,1482,1805,790,3128,3065,5269,4164,1813,4310,1134,1922,3177,1302,4596,6418,2558,2022,2805,2163,3392,1016,3477,5867,-3,1247,2332,3812,4335,4214,462,1988,1649,2902,3027,946,2340,3870,2057,2699,5545,5985,-363,2390,4335,3477,3893,4302,3833,2131,1329,1961],\"xaxis\":\"x\",\"yaxis\":\"y\",\"type\":\"histogram\"}],                        {\"template\":{\"data\":{\"histogram2dcontour\":[{\"type\":\"histogram2dcontour\",\"colorbar\":{\"outlinewidth\":0,\"ticks\":\"\"},\"colorscale\":[[0.0,\"#0d0887\"],[0.1111111111111111,\"#46039f\"],[0.2222222222222222,\"#7201a8\"],[0.3333333333333333,\"#9c179e\"],[0.4444444444444444,\"#bd3786\"],[0.5555555555555556,\"#d8576b\"],[0.6666666666666666,\"#ed7953\"],[0.7777777777777778,\"#fb9f3a\"],[0.8888888888888888,\"#fdca26\"],[1.0,\"#f0f921\"]]}],\"choropleth\":[{\"type\":\"choropleth\",\"colorbar\":{\"outlinewidth\":0,\"ticks\":\"\"}}],\"histogram2d\":[{\"type\":\"histogram2d\",\"colorbar\":{\"outlinewidth\":0,\"ticks\":\"\"},\"colorscale\":[[0.0,\"#0d0887\"],[0.1111111111111111,\"#46039f\"],[0.2222222222222222,\"#7201a8\"],[0.3333333333333333,\"#9c179e\"],[0.4444444444444444,\"#bd3786\"],[0.5555555555555556,\"#d8576b\"],[0.6666666666666666,\"#ed7953\"],[0.7777777777777778,\"#fb9f3a\"],[0.8888888888888888,\"#fdca26\"],[1.0,\"#f0f921\"]]}],\"heatmap\":[{\"type\":\"heatmap\",\"colorbar\":{\"outlinewidth\":0,\"ticks\":\"\"},\"colorscale\":[[0.0,\"#0d0887\"],[0.1111111111111111,\"#46039f\"],[0.2222222222222222,\"#7201a8\"],[0.3333333333333333,\"#9c179e\"],[0.4444444444444444,\"#bd3786\"],[0.5555555555555556,\"#d8576b\"],[0.6666666666666666,\"#ed7953\"],[0.7777777777777778,\"#fb9f3a\"],[0.8888888888888888,\"#fdca26\"],[1.0,\"#f0f921\"]]}],\"heatmapgl\":[{\"type\":\"heatmapgl\",\"colorbar\":{\"outlinewidth\":0,\"ticks\":\"\"},\"colorscale\":[[0.0,\"#0d0887\"],[0.1111111111111111,\"#46039f\"],[0.2222222222222222,\"#7201a8\"],[0.3333333333333333,\"#9c179e\"],[0.4444444444444444,\"#bd3786\"],[0.5555555555555556,\"#d8576b\"],[0.6666666666666666,\"#ed7953\"],[0.7777777777777778,\"#fb9f3a\"],[0.8888888888888888,\"#fdca26\"],[1.0,\"#f0f921\"]]}],\"contourcarpet\":[{\"type\":\"contourcarpet\",\"colorbar\":{\"outlinewidth\":0,\"ticks\":\"\"}}],\"contour\":[{\"type\":\"contour\",\"colorbar\":{\"outlinewidth\":0,\"ticks\":\"\"},\"colorscale\":[[0.0,\"#0d0887\"],[0.1111111111111111,\"#46039f\"],[0.2222222222222222,\"#7201a8\"],[0.3333333333333333,\"#9c179e\"],[0.4444444444444444,\"#bd3786\"],[0.5555555555555556,\"#d8576b\"],[0.6666666666666666,\"#ed7953\"],[0.7777777777777778,\"#fb9f3a\"],[0.8888888888888888,\"#fdca26\"],[1.0,\"#f0f921\"]]}],\"surface\":[{\"type\":\"surface\",\"colorbar\":{\"outlinewidth\":0,\"ticks\":\"\"},\"colorscale\":[[0.0,\"#0d0887\"],[0.1111111111111111,\"#46039f\"],[0.2222222222222222,\"#7201a8\"],[0.3333333333333333,\"#9c179e\"],[0.4444444444444444,\"#bd3786\"],[0.5555555555555556,\"#d8576b\"],[0.6666666666666666,\"#ed7953\"],[0.7777777777777778,\"#fb9f3a\"],[0.8888888888888888,\"#fdca26\"],[1.0,\"#f0f921\"]]}],\"mesh3d\":[{\"type\":\"mesh3d\",\"colorbar\":{\"outlinewidth\":0,\"ticks\":\"\"}}],\"scatter\":[{\"fillpattern\":{\"fillmode\":\"overlay\",\"size\":10,\"solidity\":0.2},\"type\":\"scatter\"}],\"parcoords\":[{\"type\":\"parcoords\",\"line\":{\"colorbar\":{\"outlinewidth\":0,\"ticks\":\"\"}}}],\"scatterpolargl\":[{\"type\":\"scatterpolargl\",\"marker\":{\"colorbar\":{\"outlinewidth\":0,\"ticks\":\"\"}}}],\"bar\":[{\"error_x\":{\"color\":\"#2a3f5f\"},\"error_y\":{\"color\":\"#2a3f5f\"},\"marker\":{\"line\":{\"color\":\"#E5ECF6\",\"width\":0.5},\"pattern\":{\"fillmode\":\"overlay\",\"size\":10,\"solidity\":0.2}},\"type\":\"bar\"}],\"scattergeo\":[{\"type\":\"scattergeo\",\"marker\":{\"colorbar\":{\"outlinewidth\":0,\"ticks\":\"\"}}}],\"scatterpolar\":[{\"type\":\"scatterpolar\",\"marker\":{\"colorbar\":{\"outlinewidth\":0,\"ticks\":\"\"}}}],\"histogram\":[{\"marker\":{\"pattern\":{\"fillmode\":\"overlay\",\"size\":10,\"solidity\":0.2}},\"type\":\"histogram\"}],\"scattergl\":[{\"type\":\"scattergl\",\"marker\":{\"colorbar\":{\"outlinewidth\":0,\"ticks\":\"\"}}}],\"scatter3d\":[{\"type\":\"scatter3d\",\"line\":{\"colorbar\":{\"outlinewidth\":0,\"ticks\":\"\"}},\"marker\":{\"colorbar\":{\"outlinewidth\":0,\"ticks\":\"\"}}}],\"scattermapbox\":[{\"type\":\"scattermapbox\",\"marker\":{\"colorbar\":{\"outlinewidth\":0,\"ticks\":\"\"}}}],\"scatterternary\":[{\"type\":\"scatterternary\",\"marker\":{\"colorbar\":{\"outlinewidth\":0,\"ticks\":\"\"}}}],\"scattercarpet\":[{\"type\":\"scattercarpet\",\"marker\":{\"colorbar\":{\"outlinewidth\":0,\"ticks\":\"\"}}}],\"carpet\":[{\"aaxis\":{\"endlinecolor\":\"#2a3f5f\",\"gridcolor\":\"white\",\"linecolor\":\"white\",\"minorgridcolor\":\"white\",\"startlinecolor\":\"#2a3f5f\"},\"baxis\":{\"endlinecolor\":\"#2a3f5f\",\"gridcolor\":\"white\",\"linecolor\":\"white\",\"minorgridcolor\":\"white\",\"startlinecolor\":\"#2a3f5f\"},\"type\":\"carpet\"}],\"table\":[{\"cells\":{\"fill\":{\"color\":\"#EBF0F8\"},\"line\":{\"color\":\"white\"}},\"header\":{\"fill\":{\"color\":\"#C8D4E3\"},\"line\":{\"color\":\"white\"}},\"type\":\"table\"}],\"barpolar\":[{\"marker\":{\"line\":{\"color\":\"#E5ECF6\",\"width\":0.5},\"pattern\":{\"fillmode\":\"overlay\",\"size\":10,\"solidity\":0.2}},\"type\":\"barpolar\"}],\"pie\":[{\"automargin\":true,\"type\":\"pie\"}]},\"layout\":{\"autotypenumbers\":\"strict\",\"colorway\":[\"#636efa\",\"#EF553B\",\"#00cc96\",\"#ab63fa\",\"#FFA15A\",\"#19d3f3\",\"#FF6692\",\"#B6E880\",\"#FF97FF\",\"#FECB52\"],\"font\":{\"color\":\"#2a3f5f\"},\"hovermode\":\"closest\",\"hoverlabel\":{\"align\":\"left\"},\"paper_bgcolor\":\"white\",\"plot_bgcolor\":\"#E5ECF6\",\"polar\":{\"bgcolor\":\"#E5ECF6\",\"angularaxis\":{\"gridcolor\":\"white\",\"linecolor\":\"white\",\"ticks\":\"\"},\"radialaxis\":{\"gridcolor\":\"white\",\"linecolor\":\"white\",\"ticks\":\"\"}},\"ternary\":{\"bgcolor\":\"#E5ECF6\",\"aaxis\":{\"gridcolor\":\"white\",\"linecolor\":\"white\",\"ticks\":\"\"},\"baxis\":{\"gridcolor\":\"white\",\"linecolor\":\"white\",\"ticks\":\"\"},\"caxis\":{\"gridcolor\":\"white\",\"linecolor\":\"white\",\"ticks\":\"\"}},\"coloraxis\":{\"colorbar\":{\"outlinewidth\":0,\"ticks\":\"\"}},\"colorscale\":{\"sequential\":[[0.0,\"#0d0887\"],[0.1111111111111111,\"#46039f\"],[0.2222222222222222,\"#7201a8\"],[0.3333333333333333,\"#9c179e\"],[0.4444444444444444,\"#bd3786\"],[0.5555555555555556,\"#d8576b\"],[0.6666666666666666,\"#ed7953\"],[0.7777777777777778,\"#fb9f3a\"],[0.8888888888888888,\"#fdca26\"],[1.0,\"#f0f921\"]],\"sequentialminus\":[[0.0,\"#0d0887\"],[0.1111111111111111,\"#46039f\"],[0.2222222222222222,\"#7201a8\"],[0.3333333333333333,\"#9c179e\"],[0.4444444444444444,\"#bd3786\"],[0.5555555555555556,\"#d8576b\"],[0.6666666666666666,\"#ed7953\"],[0.7777777777777778,\"#fb9f3a\"],[0.8888888888888888,\"#fdca26\"],[1.0,\"#f0f921\"]],\"diverging\":[[0,\"#8e0152\"],[0.1,\"#c51b7d\"],[0.2,\"#de77ae\"],[0.3,\"#f1b6da\"],[0.4,\"#fde0ef\"],[0.5,\"#f7f7f7\"],[0.6,\"#e6f5d0\"],[0.7,\"#b8e186\"],[0.8,\"#7fbc41\"],[0.9,\"#4d9221\"],[1,\"#276419\"]]},\"xaxis\":{\"gridcolor\":\"white\",\"linecolor\":\"white\",\"ticks\":\"\",\"title\":{\"standoff\":15},\"zerolinecolor\":\"white\",\"automargin\":true,\"zerolinewidth\":2},\"yaxis\":{\"gridcolor\":\"white\",\"linecolor\":\"white\",\"ticks\":\"\",\"title\":{\"standoff\":15},\"zerolinecolor\":\"white\",\"automargin\":true,\"zerolinewidth\":2},\"scene\":{\"xaxis\":{\"backgroundcolor\":\"#E5ECF6\",\"gridcolor\":\"white\",\"linecolor\":\"white\",\"showbackground\":true,\"ticks\":\"\",\"zerolinecolor\":\"white\",\"gridwidth\":2},\"yaxis\":{\"backgroundcolor\":\"#E5ECF6\",\"gridcolor\":\"white\",\"linecolor\":\"white\",\"showbackground\":true,\"ticks\":\"\",\"zerolinecolor\":\"white\",\"gridwidth\":2},\"zaxis\":{\"backgroundcolor\":\"#E5ECF6\",\"gridcolor\":\"white\",\"linecolor\":\"white\",\"showbackground\":true,\"ticks\":\"\",\"zerolinecolor\":\"white\",\"gridwidth\":2}},\"shapedefaults\":{\"line\":{\"color\":\"#2a3f5f\"}},\"annotationdefaults\":{\"arrowcolor\":\"#2a3f5f\",\"arrowhead\":0,\"arrowwidth\":1},\"geo\":{\"bgcolor\":\"white\",\"landcolor\":\"#E5ECF6\",\"subunitcolor\":\"white\",\"showland\":true,\"showlakes\":true,\"lakecolor\":\"white\"},\"title\":{\"x\":0.05},\"mapbox\":{\"style\":\"light\"}}},\"xaxis\":{\"anchor\":\"y\",\"domain\":[0.0,1.0],\"title\":{\"text\":\"monthly_balance\"}},\"yaxis\":{\"anchor\":\"x\",\"domain\":[0.0,1.0],\"title\":{\"text\":\"count\"}},\"legend\":{\"tracegroupgap\":0},\"title\":{\"text\":\"Monthly Balance Distribution\"},\"barmode\":\"relative\"},                        {\"responsive\": true}                    ).then(function(){\n",
              "                            \n",
              "var gd = document.getElementById('251b6ce6-f2f2-42bd-a24a-822a34b6599f');\n",
              "var x = new MutationObserver(function (mutations, observer) {{\n",
              "        var display = window.getComputedStyle(gd).display;\n",
              "        if (!display || display === 'none') {{\n",
              "            console.log([gd, 'removed!']);\n",
              "            Plotly.purge(gd);\n",
              "            observer.disconnect();\n",
              "        }}\n",
              "}});\n",
              "\n",
              "// Listen for the removal of the full notebook cells\n",
              "var notebookContainer = gd.closest('#notebook-container');\n",
              "if (notebookContainer) {{\n",
              "    x.observe(notebookContainer, {childList: true});\n",
              "}}\n",
              "\n",
              "// Listen for the clearing of the current output cell\n",
              "var outputEl = gd.closest('.output');\n",
              "if (outputEl) {{\n",
              "    x.observe(outputEl, {childList: true});\n",
              "}}\n",
              "\n",
              "                        })                };                            </script>        </div>\n",
              "</body>\n",
              "</html>"
            ]
          },
          "metadata": {}
        }
      ],
      "source": [
        "\n",
        "fig = px.histogram(df, x=\"monthly_balance\", nbins=30, title=\"Monthly Balance Distribution\")\n",
        "fig.show()\n"
      ]
    },
    {
      "cell_type": "code",
      "execution_count": 56,
      "id": "83a243ed",
      "metadata": {
        "colab": {
          "base_uri": "https://localhost:8080/",
          "height": 542
        },
        "id": "83a243ed",
        "outputId": "564286c0-c5ee-4bbb-c51a-e5c149702799"
      },
      "outputs": [
        {
          "output_type": "display_data",
          "data": {
            "text/html": [
              "<html>\n",
              "<head><meta charset=\"utf-8\" /></head>\n",
              "<body>\n",
              "    <div>            <script src=\"https://cdnjs.cloudflare.com/ajax/libs/mathjax/2.7.5/MathJax.js?config=TeX-AMS-MML_SVG\"></script><script type=\"text/javascript\">if (window.MathJax && window.MathJax.Hub && window.MathJax.Hub.Config) {window.MathJax.Hub.Config({SVG: {font: \"STIX-Web\"}});}</script>                <script type=\"text/javascript\">window.PlotlyConfig = {MathJaxConfig: 'local'};</script>\n",
              "        <script charset=\"utf-8\" src=\"https://cdn.plot.ly/plotly-2.35.2.min.js\"></script>                <div id=\"fc4afd37-9b84-452d-aaca-08e4803d18c6\" class=\"plotly-graph-div\" style=\"height:525px; width:100%;\"></div>            <script type=\"text/javascript\">                                    window.PLOTLYENV=window.PLOTLYENV || {};                                    if (document.getElementById(\"fc4afd37-9b84-452d-aaca-08e4803d18c6\")) {                    Plotly.newPlot(                        \"fc4afd37-9b84-452d-aaca-08e4803d18c6\",                        [{\"alignmentgroup\":\"True\",\"hovertemplate\":\"monthly_balance=%{x}\\u003cextra\\u003e\\u003c\\u002fextra\\u003e\",\"legendgroup\":\"\",\"marker\":{\"color\":\"#636efa\"},\"name\":\"\",\"notched\":false,\"offsetgroup\":\"\",\"orientation\":\"h\",\"showlegend\":false,\"x\":[2541,2692,2957,2398,4165,1395,1827,3181,2448,1336,3797,2141,1732,2738,1660,2948,2460,2231,2240,4493,3553,436,4324,3774,3686,4331,3022,3930,2303,4271,3327,934,4554,2806,2597,2335,2445,3344,1518,647,1403,3572,2757,4669,2902,4263,1960,2347,3014,2779,2639,1691,621,3946,3778,2079,3568,2750,4659,1031,2809,2690,3241,5305,2814,4114,2778,4606,4129,2500,2392,3730,2016,3285,2466,3552,2758,1961,4657,3359,2919,3629,493,6135,3037,55,4795,1872,4565,3182,644,3391,3281,4727,3783,1140,4503,2378,5580,2467,2683,1767,2252,1855,4764,1002,4206,4242,5066,3065,1459,2742,3892,3127,3550,5047,3873,3297,233,1824,2392,34,1336,2597,2841,3758,2692,3372,2373,3063,3676,5208,2228,3216,4303,840,5996,4768,432,3557,2153,2403,3525,4575,2301,2321,3558,3857,1489,5585,2035,4447,3677,3909,2064,414,2967,2974,1562,4376,2922,1786,3877,3917,1925,4850,6364,1364,2724,3505,6420,1899,1590,1580,4832,1938,1724,3346,3462,4606,3137,3373,2842,1043,2700,3094,2334,653,1297,2940,4399,5523,2724,1924,2441,1430,4181,6206,1961,1211,4509,3477,3502,5382,950,908,2757,3095,2467,6691,2534,2173,3186,4456,1911,2779,4498,4582,3326,6627,5970,890,462,4193,5048,2662,2246,1769,1247,4704,2428,3452,261,4503,3881,982,3388,3007,2324,-1354,2009,3453,2177,2667,5245,2883,-145,2722,3149,1761,4102,806,2793,789,2556,4062,2757,2669,3041,3116,4040,4049,5132,3251,508,4286,5024,6692,5177,2264,3280,2594,2390,2829,4928,616,1496,4829,5180,2010,5476,4463,2598,-6520,497,2012,4139,4144,2300,2653,2951,2671,3245,2954,488,2688,2966,4484,1753,3305,3844,2777,367,4515,4120,3343,3060,327,4161,5229,1329,5017,4697,1285,2408,906,2902,3672,1019,3578,3958,3980,3681,1157,2817,3528,5191,3003,3638,1601,1267,1075,2369,6093,2396,3546,3835,1362,2347,3936,3642,9,3891,2173,2212,3607,5284,2699,4768,838,3196,2188,3423,2555,988,1668,535,1039,3720,2623,3346,5723,2556,3951,3042,7144,-1526,1923,3981,1870,3849,2909,4297,1301,3259,3699,3197,3224,4803,480,3187,1186,4136,1743,-708,4172,2597,3534,5140,3557,3254,2929,1279,2677,5960,2437,2765,4885,688,3930,616,3598,2966,3918,1481,2197,3996,2235,4133,3313,2331,2526,3005,2669,4095,2443,2140,4365,2366,2189,-728,1440,1742,2189,1916,4474,1837,1949,3233,13470,5345,4203,1247,4520,4832,1286,1252,2084,877,1829,2399,3756,3121,2777,2275,1038,3887,3854,2074,1348,5334,3370,3595,3660,1196,5248,2394,4233,5187,3122,1227,-740,2942,3375,2128,3203,3645,4490,2657,2931,2732,3050,2230,2223,2317,3234,1729,2323,5712,4344,1564,4297,3941,2844,1938,1767,3335,1730,4645,5071,2935,4708,2382,1928,4650,5369,5944,3498,4293,3465,5105,3649,4207,1296,2653,4220,4085,4348,3180,2021,2911,3070,3362,1548,2601,2866,-363,4248,3246,3397,2226,3879,1752,1987,3942,3535,1083,5366,1862,2801,5620,-89,440,3662,-717,-65,4762,2386,6294,1447,2522,3810,3707,2617,2027,3347,5065,4144,2051,1512,1960,1089,3221,4220,2892,5579,5663,3461,4052,1649,2458,4908,2131,5231,4668,4127,1240,2532,3966,1521,2714,4128,2147,1730,298,2420,4159,1690,3026,2663,2000,4256,5463,4506,1956,5988,4502,2313,1837,4681,3260,1723,2777,2389,1763,4521,4172,4257,4237,1625,2094,5187,3162,794,3325,3982,3786,1593,5830,749,3166,5604,3887,4254,1420,3520,2945,1304,4297,1770,1948,3648,2785,3253,2693,5119,1612,2302,3721,1518,1451,3206,4301,4496,3137,1991,3413,3849,3392,4851,1478,1954,4643,790,2190,1902,653,2719,4119,3234,4199,4787,2421,6970,2481,2681,1938,3818,2564,2881,2692,2658,3237,2324,2395,4609,2559,3575,1665,23320,1151,5781,5063,3893,6226,4155,2742,3558,5041,1679,1240,3609,2119,-389,1135,2532,3072,3116,6007,2688,3417,561,2953,3501,937,1599,3733,2180,2846,3811,6055,2667,5653,61,3222,2498,2201,3987,2678,-37,617,4083,544,4123,3187,2744,2877,3772,1233,3063,1290,3245,3969,3248,3912,1949,2906,2643,2544,1799,2352,1330,458,1948,3938,3351,1115,2390,4038,2327,873,6386,2749,1254,3256,2871,687,3140,4475,2650,-90,3512,3904,2120,2131,6386,2012,1317,3037,3862,3798,-702,2008,4729,3490,1146,4863,4447,2555,4319,5999,1418,3833,5978,3979,1868,3358,5054,1476,29540,2634,2052,3362,2848,3965,4711,1090,3101,2920,3305,2976,1529,5182,5821,3820,3897,3196,4453,-664,2994,2141,3218,4638,3028,2459,895,2836,4008,1738,-5,6411,3502,2667,5086,3212,4998,4869,1088,3689,5587,1502,1520,1774,4335,3426,96,3511,2622,2831,1744,3522,4575,2037,476,2545,4134,2368,753,4144,5123,3030,591,2523,3227,1785,3875,1638,3038,2657,3923,2978,2705,1795,3052,2609,1694,3239,3545,2492,4397,3395,1074,5006,4150,4502,3600,-506,4638,3091,3529,3810,5904,2180,2219,1723,1395,1422,222,3639,5981,6077,1721,2591,4850,3648,3201,2614,4767,1390,3721,3517,3065,4181,3050,2198,3138,6110,3919,4302,2015,1658,2070,2905,3323,5423,5233,4247,3181,1609,5519,2628,3422,3941,3092,4726,3683,4482,3671,2943,3111,2906,1073,1498,4110,1110,2393,1424,2313,2767,2390,857,2721,1561,2045,4110,4433,1033,5352,2234,2098,1662,3083,5972,690,-85,3402,3854,3079,3893,1303,1582,3185,5637,3841,3910,1389,3633,1226,5651,1482,1805,790,3128,3065,5269,4164,1813,4310,1134,1922,3177,1302,4596,6418,2558,2022,2805,2163,3392,1016,3477,5867,-3,1247,2332,3812,4335,4214,462,1988,1649,2902,3027,946,2340,3870,2057,2699,5545,5985,-363,2390,4335,3477,3893,4302,3833,2131,1329,1961],\"x0\":\" \",\"xaxis\":\"x\",\"y0\":\" \",\"yaxis\":\"y\",\"type\":\"box\"}],                        {\"template\":{\"data\":{\"histogram2dcontour\":[{\"type\":\"histogram2dcontour\",\"colorbar\":{\"outlinewidth\":0,\"ticks\":\"\"},\"colorscale\":[[0.0,\"#0d0887\"],[0.1111111111111111,\"#46039f\"],[0.2222222222222222,\"#7201a8\"],[0.3333333333333333,\"#9c179e\"],[0.4444444444444444,\"#bd3786\"],[0.5555555555555556,\"#d8576b\"],[0.6666666666666666,\"#ed7953\"],[0.7777777777777778,\"#fb9f3a\"],[0.8888888888888888,\"#fdca26\"],[1.0,\"#f0f921\"]]}],\"choropleth\":[{\"type\":\"choropleth\",\"colorbar\":{\"outlinewidth\":0,\"ticks\":\"\"}}],\"histogram2d\":[{\"type\":\"histogram2d\",\"colorbar\":{\"outlinewidth\":0,\"ticks\":\"\"},\"colorscale\":[[0.0,\"#0d0887\"],[0.1111111111111111,\"#46039f\"],[0.2222222222222222,\"#7201a8\"],[0.3333333333333333,\"#9c179e\"],[0.4444444444444444,\"#bd3786\"],[0.5555555555555556,\"#d8576b\"],[0.6666666666666666,\"#ed7953\"],[0.7777777777777778,\"#fb9f3a\"],[0.8888888888888888,\"#fdca26\"],[1.0,\"#f0f921\"]]}],\"heatmap\":[{\"type\":\"heatmap\",\"colorbar\":{\"outlinewidth\":0,\"ticks\":\"\"},\"colorscale\":[[0.0,\"#0d0887\"],[0.1111111111111111,\"#46039f\"],[0.2222222222222222,\"#7201a8\"],[0.3333333333333333,\"#9c179e\"],[0.4444444444444444,\"#bd3786\"],[0.5555555555555556,\"#d8576b\"],[0.6666666666666666,\"#ed7953\"],[0.7777777777777778,\"#fb9f3a\"],[0.8888888888888888,\"#fdca26\"],[1.0,\"#f0f921\"]]}],\"heatmapgl\":[{\"type\":\"heatmapgl\",\"colorbar\":{\"outlinewidth\":0,\"ticks\":\"\"},\"colorscale\":[[0.0,\"#0d0887\"],[0.1111111111111111,\"#46039f\"],[0.2222222222222222,\"#7201a8\"],[0.3333333333333333,\"#9c179e\"],[0.4444444444444444,\"#bd3786\"],[0.5555555555555556,\"#d8576b\"],[0.6666666666666666,\"#ed7953\"],[0.7777777777777778,\"#fb9f3a\"],[0.8888888888888888,\"#fdca26\"],[1.0,\"#f0f921\"]]}],\"contourcarpet\":[{\"type\":\"contourcarpet\",\"colorbar\":{\"outlinewidth\":0,\"ticks\":\"\"}}],\"contour\":[{\"type\":\"contour\",\"colorbar\":{\"outlinewidth\":0,\"ticks\":\"\"},\"colorscale\":[[0.0,\"#0d0887\"],[0.1111111111111111,\"#46039f\"],[0.2222222222222222,\"#7201a8\"],[0.3333333333333333,\"#9c179e\"],[0.4444444444444444,\"#bd3786\"],[0.5555555555555556,\"#d8576b\"],[0.6666666666666666,\"#ed7953\"],[0.7777777777777778,\"#fb9f3a\"],[0.8888888888888888,\"#fdca26\"],[1.0,\"#f0f921\"]]}],\"surface\":[{\"type\":\"surface\",\"colorbar\":{\"outlinewidth\":0,\"ticks\":\"\"},\"colorscale\":[[0.0,\"#0d0887\"],[0.1111111111111111,\"#46039f\"],[0.2222222222222222,\"#7201a8\"],[0.3333333333333333,\"#9c179e\"],[0.4444444444444444,\"#bd3786\"],[0.5555555555555556,\"#d8576b\"],[0.6666666666666666,\"#ed7953\"],[0.7777777777777778,\"#fb9f3a\"],[0.8888888888888888,\"#fdca26\"],[1.0,\"#f0f921\"]]}],\"mesh3d\":[{\"type\":\"mesh3d\",\"colorbar\":{\"outlinewidth\":0,\"ticks\":\"\"}}],\"scatter\":[{\"fillpattern\":{\"fillmode\":\"overlay\",\"size\":10,\"solidity\":0.2},\"type\":\"scatter\"}],\"parcoords\":[{\"type\":\"parcoords\",\"line\":{\"colorbar\":{\"outlinewidth\":0,\"ticks\":\"\"}}}],\"scatterpolargl\":[{\"type\":\"scatterpolargl\",\"marker\":{\"colorbar\":{\"outlinewidth\":0,\"ticks\":\"\"}}}],\"bar\":[{\"error_x\":{\"color\":\"#2a3f5f\"},\"error_y\":{\"color\":\"#2a3f5f\"},\"marker\":{\"line\":{\"color\":\"#E5ECF6\",\"width\":0.5},\"pattern\":{\"fillmode\":\"overlay\",\"size\":10,\"solidity\":0.2}},\"type\":\"bar\"}],\"scattergeo\":[{\"type\":\"scattergeo\",\"marker\":{\"colorbar\":{\"outlinewidth\":0,\"ticks\":\"\"}}}],\"scatterpolar\":[{\"type\":\"scatterpolar\",\"marker\":{\"colorbar\":{\"outlinewidth\":0,\"ticks\":\"\"}}}],\"histogram\":[{\"marker\":{\"pattern\":{\"fillmode\":\"overlay\",\"size\":10,\"solidity\":0.2}},\"type\":\"histogram\"}],\"scattergl\":[{\"type\":\"scattergl\",\"marker\":{\"colorbar\":{\"outlinewidth\":0,\"ticks\":\"\"}}}],\"scatter3d\":[{\"type\":\"scatter3d\",\"line\":{\"colorbar\":{\"outlinewidth\":0,\"ticks\":\"\"}},\"marker\":{\"colorbar\":{\"outlinewidth\":0,\"ticks\":\"\"}}}],\"scattermapbox\":[{\"type\":\"scattermapbox\",\"marker\":{\"colorbar\":{\"outlinewidth\":0,\"ticks\":\"\"}}}],\"scatterternary\":[{\"type\":\"scatterternary\",\"marker\":{\"colorbar\":{\"outlinewidth\":0,\"ticks\":\"\"}}}],\"scattercarpet\":[{\"type\":\"scattercarpet\",\"marker\":{\"colorbar\":{\"outlinewidth\":0,\"ticks\":\"\"}}}],\"carpet\":[{\"aaxis\":{\"endlinecolor\":\"#2a3f5f\",\"gridcolor\":\"white\",\"linecolor\":\"white\",\"minorgridcolor\":\"white\",\"startlinecolor\":\"#2a3f5f\"},\"baxis\":{\"endlinecolor\":\"#2a3f5f\",\"gridcolor\":\"white\",\"linecolor\":\"white\",\"minorgridcolor\":\"white\",\"startlinecolor\":\"#2a3f5f\"},\"type\":\"carpet\"}],\"table\":[{\"cells\":{\"fill\":{\"color\":\"#EBF0F8\"},\"line\":{\"color\":\"white\"}},\"header\":{\"fill\":{\"color\":\"#C8D4E3\"},\"line\":{\"color\":\"white\"}},\"type\":\"table\"}],\"barpolar\":[{\"marker\":{\"line\":{\"color\":\"#E5ECF6\",\"width\":0.5},\"pattern\":{\"fillmode\":\"overlay\",\"size\":10,\"solidity\":0.2}},\"type\":\"barpolar\"}],\"pie\":[{\"automargin\":true,\"type\":\"pie\"}]},\"layout\":{\"autotypenumbers\":\"strict\",\"colorway\":[\"#636efa\",\"#EF553B\",\"#00cc96\",\"#ab63fa\",\"#FFA15A\",\"#19d3f3\",\"#FF6692\",\"#B6E880\",\"#FF97FF\",\"#FECB52\"],\"font\":{\"color\":\"#2a3f5f\"},\"hovermode\":\"closest\",\"hoverlabel\":{\"align\":\"left\"},\"paper_bgcolor\":\"white\",\"plot_bgcolor\":\"#E5ECF6\",\"polar\":{\"bgcolor\":\"#E5ECF6\",\"angularaxis\":{\"gridcolor\":\"white\",\"linecolor\":\"white\",\"ticks\":\"\"},\"radialaxis\":{\"gridcolor\":\"white\",\"linecolor\":\"white\",\"ticks\":\"\"}},\"ternary\":{\"bgcolor\":\"#E5ECF6\",\"aaxis\":{\"gridcolor\":\"white\",\"linecolor\":\"white\",\"ticks\":\"\"},\"baxis\":{\"gridcolor\":\"white\",\"linecolor\":\"white\",\"ticks\":\"\"},\"caxis\":{\"gridcolor\":\"white\",\"linecolor\":\"white\",\"ticks\":\"\"}},\"coloraxis\":{\"colorbar\":{\"outlinewidth\":0,\"ticks\":\"\"}},\"colorscale\":{\"sequential\":[[0.0,\"#0d0887\"],[0.1111111111111111,\"#46039f\"],[0.2222222222222222,\"#7201a8\"],[0.3333333333333333,\"#9c179e\"],[0.4444444444444444,\"#bd3786\"],[0.5555555555555556,\"#d8576b\"],[0.6666666666666666,\"#ed7953\"],[0.7777777777777778,\"#fb9f3a\"],[0.8888888888888888,\"#fdca26\"],[1.0,\"#f0f921\"]],\"sequentialminus\":[[0.0,\"#0d0887\"],[0.1111111111111111,\"#46039f\"],[0.2222222222222222,\"#7201a8\"],[0.3333333333333333,\"#9c179e\"],[0.4444444444444444,\"#bd3786\"],[0.5555555555555556,\"#d8576b\"],[0.6666666666666666,\"#ed7953\"],[0.7777777777777778,\"#fb9f3a\"],[0.8888888888888888,\"#fdca26\"],[1.0,\"#f0f921\"]],\"diverging\":[[0,\"#8e0152\"],[0.1,\"#c51b7d\"],[0.2,\"#de77ae\"],[0.3,\"#f1b6da\"],[0.4,\"#fde0ef\"],[0.5,\"#f7f7f7\"],[0.6,\"#e6f5d0\"],[0.7,\"#b8e186\"],[0.8,\"#7fbc41\"],[0.9,\"#4d9221\"],[1,\"#276419\"]]},\"xaxis\":{\"gridcolor\":\"white\",\"linecolor\":\"white\",\"ticks\":\"\",\"title\":{\"standoff\":15},\"zerolinecolor\":\"white\",\"automargin\":true,\"zerolinewidth\":2},\"yaxis\":{\"gridcolor\":\"white\",\"linecolor\":\"white\",\"ticks\":\"\",\"title\":{\"standoff\":15},\"zerolinecolor\":\"white\",\"automargin\":true,\"zerolinewidth\":2},\"scene\":{\"xaxis\":{\"backgroundcolor\":\"#E5ECF6\",\"gridcolor\":\"white\",\"linecolor\":\"white\",\"showbackground\":true,\"ticks\":\"\",\"zerolinecolor\":\"white\",\"gridwidth\":2},\"yaxis\":{\"backgroundcolor\":\"#E5ECF6\",\"gridcolor\":\"white\",\"linecolor\":\"white\",\"showbackground\":true,\"ticks\":\"\",\"zerolinecolor\":\"white\",\"gridwidth\":2},\"zaxis\":{\"backgroundcolor\":\"#E5ECF6\",\"gridcolor\":\"white\",\"linecolor\":\"white\",\"showbackground\":true,\"ticks\":\"\",\"zerolinecolor\":\"white\",\"gridwidth\":2}},\"shapedefaults\":{\"line\":{\"color\":\"#2a3f5f\"}},\"annotationdefaults\":{\"arrowcolor\":\"#2a3f5f\",\"arrowhead\":0,\"arrowwidth\":1},\"geo\":{\"bgcolor\":\"white\",\"landcolor\":\"#E5ECF6\",\"subunitcolor\":\"white\",\"showland\":true,\"showlakes\":true,\"lakecolor\":\"white\"},\"title\":{\"x\":0.05},\"mapbox\":{\"style\":\"light\"}}},\"xaxis\":{\"anchor\":\"y\",\"domain\":[0.0,1.0],\"title\":{\"text\":\"monthly_balance\"}},\"yaxis\":{\"anchor\":\"x\",\"domain\":[0.0,1.0]},\"legend\":{\"tracegroupgap\":0},\"title\":{\"text\":\"Monthly Balance Box Plot\"},\"boxmode\":\"group\"},                        {\"responsive\": true}                    ).then(function(){\n",
              "                            \n",
              "var gd = document.getElementById('fc4afd37-9b84-452d-aaca-08e4803d18c6');\n",
              "var x = new MutationObserver(function (mutations, observer) {{\n",
              "        var display = window.getComputedStyle(gd).display;\n",
              "        if (!display || display === 'none') {{\n",
              "            console.log([gd, 'removed!']);\n",
              "            Plotly.purge(gd);\n",
              "            observer.disconnect();\n",
              "        }}\n",
              "}});\n",
              "\n",
              "// Listen for the removal of the full notebook cells\n",
              "var notebookContainer = gd.closest('#notebook-container');\n",
              "if (notebookContainer) {{\n",
              "    x.observe(notebookContainer, {childList: true});\n",
              "}}\n",
              "\n",
              "// Listen for the clearing of the current output cell\n",
              "var outputEl = gd.closest('.output');\n",
              "if (outputEl) {{\n",
              "    x.observe(outputEl, {childList: true});\n",
              "}}\n",
              "\n",
              "                        })                };                            </script>        </div>\n",
              "</body>\n",
              "</html>"
            ]
          },
          "metadata": {}
        }
      ],
      "source": [
        "# TODO: Create a boxplot to check for outliers in monthly_balance\n",
        "px.box(df, x=\"monthly_balance\", title=\"Monthly Balance Box Plot\")\n",
        "#it uses the median for average"
      ]
    },
    {
      "cell_type": "markdown",
      "id": "492dfd06",
      "metadata": {
        "id": "492dfd06"
      },
      "source": [
        "**Interpretation:**\n",
        "\n",
        "- Income shows wide variation, with some higher earners but many around lower ranges.\n",
        "- Monthly balance has outliers — some customers go very negative or very high."
      ]
    },
    {
      "cell_type": "markdown",
      "id": "6523559d",
      "metadata": {
        "id": "6523559d"
      },
      "source": [
        "### Step 1.5 – Target Variable\n",
        "- Check distribution of the target\n",
        "- See if classes are balanced (default vs non-default)\n",
        "\n",
        "*Explanation*: Checking class balance is critical. If imbalanced, advanced techniques like resampling or weighted models may be needed."
      ]
    },
    {
      "cell_type": "code",
      "execution_count": 57,
      "id": "fbddc497",
      "metadata": {
        "colab": {
          "base_uri": "https://localhost:8080/",
          "height": 176
        },
        "id": "fbddc497",
        "outputId": "b25aacfa-45ad-4331-d993-5a907901a8f3"
      },
      "outputs": [
        {
          "output_type": "execute_result",
          "data": {
            "text/plain": [
              "default\n",
              "0    0.781188\n",
              "1    0.218812\n",
              "Name: proportion, dtype: float64"
            ],
            "text/html": [
              "<div>\n",
              "<style scoped>\n",
              "    .dataframe tbody tr th:only-of-type {\n",
              "        vertical-align: middle;\n",
              "    }\n",
              "\n",
              "    .dataframe tbody tr th {\n",
              "        vertical-align: top;\n",
              "    }\n",
              "\n",
              "    .dataframe thead th {\n",
              "        text-align: right;\n",
              "    }\n",
              "</style>\n",
              "<table border=\"1\" class=\"dataframe\">\n",
              "  <thead>\n",
              "    <tr style=\"text-align: right;\">\n",
              "      <th></th>\n",
              "      <th>proportion</th>\n",
              "    </tr>\n",
              "    <tr>\n",
              "      <th>default</th>\n",
              "      <th></th>\n",
              "    </tr>\n",
              "  </thead>\n",
              "  <tbody>\n",
              "    <tr>\n",
              "      <th>0</th>\n",
              "      <td>0.781188</td>\n",
              "    </tr>\n",
              "    <tr>\n",
              "      <th>1</th>\n",
              "      <td>0.218812</td>\n",
              "    </tr>\n",
              "  </tbody>\n",
              "</table>\n",
              "</div><br><label><b>dtype:</b> float64</label>"
            ]
          },
          "metadata": {},
          "execution_count": 57
        }
      ],
      "source": [
        "\n",
        "# TODO: Print raw counts of default vs non-default instead of percentages\n",
        "df['default'].value_counts(normalize=True)\n",
        "#normalize makes it a percentage (can remove it)\n"
      ]
    },
    {
      "cell_type": "code",
      "execution_count": 58,
      "id": "7ff4585e",
      "metadata": {
        "colab": {
          "base_uri": "https://localhost:8080/",
          "height": 542
        },
        "id": "7ff4585e",
        "outputId": "961648a9-fb9e-4db9-a32d-25aa55c339e2"
      },
      "outputs": [
        {
          "output_type": "display_data",
          "data": {
            "text/html": [
              "<html>\n",
              "<head><meta charset=\"utf-8\" /></head>\n",
              "<body>\n",
              "    <div>            <script src=\"https://cdnjs.cloudflare.com/ajax/libs/mathjax/2.7.5/MathJax.js?config=TeX-AMS-MML_SVG\"></script><script type=\"text/javascript\">if (window.MathJax && window.MathJax.Hub && window.MathJax.Hub.Config) {window.MathJax.Hub.Config({SVG: {font: \"STIX-Web\"}});}</script>                <script type=\"text/javascript\">window.PlotlyConfig = {MathJaxConfig: 'local'};</script>\n",
              "        <script charset=\"utf-8\" src=\"https://cdn.plot.ly/plotly-2.35.2.min.js\"></script>                <div id=\"fac88124-f0f3-486e-9cfb-a687f3892155\" class=\"plotly-graph-div\" style=\"height:525px; width:100%;\"></div>            <script type=\"text/javascript\">                                    window.PLOTLYENV=window.PLOTLYENV || {};                                    if (document.getElementById(\"fac88124-f0f3-486e-9cfb-a687f3892155\")) {                    Plotly.newPlot(                        \"fac88124-f0f3-486e-9cfb-a687f3892155\",                        [{\"alignmentgroup\":\"True\",\"hovertemplate\":\"Class=%{x}\\u003cbr\\u003eProportion=%{text}\\u003cextra\\u003e\\u003c\\u002fextra\\u003e\",\"legendgroup\":\"\",\"marker\":{\"color\":\"#636efa\",\"pattern\":{\"shape\":\"\"}},\"name\":\"\",\"offsetgroup\":\"\",\"orientation\":\"v\",\"showlegend\":false,\"text\":[0.7811881188118812,0.2188118811881188],\"textposition\":\"outside\",\"x\":[0,1],\"xaxis\":\"x\",\"y\":[0.7811881188118812,0.2188118811881188],\"yaxis\":\"y\",\"type\":\"bar\",\"texttemplate\":\"%{text:.2%}\"}],                        {\"template\":{\"data\":{\"histogram2dcontour\":[{\"type\":\"histogram2dcontour\",\"colorbar\":{\"outlinewidth\":0,\"ticks\":\"\"},\"colorscale\":[[0.0,\"#0d0887\"],[0.1111111111111111,\"#46039f\"],[0.2222222222222222,\"#7201a8\"],[0.3333333333333333,\"#9c179e\"],[0.4444444444444444,\"#bd3786\"],[0.5555555555555556,\"#d8576b\"],[0.6666666666666666,\"#ed7953\"],[0.7777777777777778,\"#fb9f3a\"],[0.8888888888888888,\"#fdca26\"],[1.0,\"#f0f921\"]]}],\"choropleth\":[{\"type\":\"choropleth\",\"colorbar\":{\"outlinewidth\":0,\"ticks\":\"\"}}],\"histogram2d\":[{\"type\":\"histogram2d\",\"colorbar\":{\"outlinewidth\":0,\"ticks\":\"\"},\"colorscale\":[[0.0,\"#0d0887\"],[0.1111111111111111,\"#46039f\"],[0.2222222222222222,\"#7201a8\"],[0.3333333333333333,\"#9c179e\"],[0.4444444444444444,\"#bd3786\"],[0.5555555555555556,\"#d8576b\"],[0.6666666666666666,\"#ed7953\"],[0.7777777777777778,\"#fb9f3a\"],[0.8888888888888888,\"#fdca26\"],[1.0,\"#f0f921\"]]}],\"heatmap\":[{\"type\":\"heatmap\",\"colorbar\":{\"outlinewidth\":0,\"ticks\":\"\"},\"colorscale\":[[0.0,\"#0d0887\"],[0.1111111111111111,\"#46039f\"],[0.2222222222222222,\"#7201a8\"],[0.3333333333333333,\"#9c179e\"],[0.4444444444444444,\"#bd3786\"],[0.5555555555555556,\"#d8576b\"],[0.6666666666666666,\"#ed7953\"],[0.7777777777777778,\"#fb9f3a\"],[0.8888888888888888,\"#fdca26\"],[1.0,\"#f0f921\"]]}],\"heatmapgl\":[{\"type\":\"heatmapgl\",\"colorbar\":{\"outlinewidth\":0,\"ticks\":\"\"},\"colorscale\":[[0.0,\"#0d0887\"],[0.1111111111111111,\"#46039f\"],[0.2222222222222222,\"#7201a8\"],[0.3333333333333333,\"#9c179e\"],[0.4444444444444444,\"#bd3786\"],[0.5555555555555556,\"#d8576b\"],[0.6666666666666666,\"#ed7953\"],[0.7777777777777778,\"#fb9f3a\"],[0.8888888888888888,\"#fdca26\"],[1.0,\"#f0f921\"]]}],\"contourcarpet\":[{\"type\":\"contourcarpet\",\"colorbar\":{\"outlinewidth\":0,\"ticks\":\"\"}}],\"contour\":[{\"type\":\"contour\",\"colorbar\":{\"outlinewidth\":0,\"ticks\":\"\"},\"colorscale\":[[0.0,\"#0d0887\"],[0.1111111111111111,\"#46039f\"],[0.2222222222222222,\"#7201a8\"],[0.3333333333333333,\"#9c179e\"],[0.4444444444444444,\"#bd3786\"],[0.5555555555555556,\"#d8576b\"],[0.6666666666666666,\"#ed7953\"],[0.7777777777777778,\"#fb9f3a\"],[0.8888888888888888,\"#fdca26\"],[1.0,\"#f0f921\"]]}],\"surface\":[{\"type\":\"surface\",\"colorbar\":{\"outlinewidth\":0,\"ticks\":\"\"},\"colorscale\":[[0.0,\"#0d0887\"],[0.1111111111111111,\"#46039f\"],[0.2222222222222222,\"#7201a8\"],[0.3333333333333333,\"#9c179e\"],[0.4444444444444444,\"#bd3786\"],[0.5555555555555556,\"#d8576b\"],[0.6666666666666666,\"#ed7953\"],[0.7777777777777778,\"#fb9f3a\"],[0.8888888888888888,\"#fdca26\"],[1.0,\"#f0f921\"]]}],\"mesh3d\":[{\"type\":\"mesh3d\",\"colorbar\":{\"outlinewidth\":0,\"ticks\":\"\"}}],\"scatter\":[{\"fillpattern\":{\"fillmode\":\"overlay\",\"size\":10,\"solidity\":0.2},\"type\":\"scatter\"}],\"parcoords\":[{\"type\":\"parcoords\",\"line\":{\"colorbar\":{\"outlinewidth\":0,\"ticks\":\"\"}}}],\"scatterpolargl\":[{\"type\":\"scatterpolargl\",\"marker\":{\"colorbar\":{\"outlinewidth\":0,\"ticks\":\"\"}}}],\"bar\":[{\"error_x\":{\"color\":\"#2a3f5f\"},\"error_y\":{\"color\":\"#2a3f5f\"},\"marker\":{\"line\":{\"color\":\"#E5ECF6\",\"width\":0.5},\"pattern\":{\"fillmode\":\"overlay\",\"size\":10,\"solidity\":0.2}},\"type\":\"bar\"}],\"scattergeo\":[{\"type\":\"scattergeo\",\"marker\":{\"colorbar\":{\"outlinewidth\":0,\"ticks\":\"\"}}}],\"scatterpolar\":[{\"type\":\"scatterpolar\",\"marker\":{\"colorbar\":{\"outlinewidth\":0,\"ticks\":\"\"}}}],\"histogram\":[{\"marker\":{\"pattern\":{\"fillmode\":\"overlay\",\"size\":10,\"solidity\":0.2}},\"type\":\"histogram\"}],\"scattergl\":[{\"type\":\"scattergl\",\"marker\":{\"colorbar\":{\"outlinewidth\":0,\"ticks\":\"\"}}}],\"scatter3d\":[{\"type\":\"scatter3d\",\"line\":{\"colorbar\":{\"outlinewidth\":0,\"ticks\":\"\"}},\"marker\":{\"colorbar\":{\"outlinewidth\":0,\"ticks\":\"\"}}}],\"scattermapbox\":[{\"type\":\"scattermapbox\",\"marker\":{\"colorbar\":{\"outlinewidth\":0,\"ticks\":\"\"}}}],\"scatterternary\":[{\"type\":\"scatterternary\",\"marker\":{\"colorbar\":{\"outlinewidth\":0,\"ticks\":\"\"}}}],\"scattercarpet\":[{\"type\":\"scattercarpet\",\"marker\":{\"colorbar\":{\"outlinewidth\":0,\"ticks\":\"\"}}}],\"carpet\":[{\"aaxis\":{\"endlinecolor\":\"#2a3f5f\",\"gridcolor\":\"white\",\"linecolor\":\"white\",\"minorgridcolor\":\"white\",\"startlinecolor\":\"#2a3f5f\"},\"baxis\":{\"endlinecolor\":\"#2a3f5f\",\"gridcolor\":\"white\",\"linecolor\":\"white\",\"minorgridcolor\":\"white\",\"startlinecolor\":\"#2a3f5f\"},\"type\":\"carpet\"}],\"table\":[{\"cells\":{\"fill\":{\"color\":\"#EBF0F8\"},\"line\":{\"color\":\"white\"}},\"header\":{\"fill\":{\"color\":\"#C8D4E3\"},\"line\":{\"color\":\"white\"}},\"type\":\"table\"}],\"barpolar\":[{\"marker\":{\"line\":{\"color\":\"#E5ECF6\",\"width\":0.5},\"pattern\":{\"fillmode\":\"overlay\",\"size\":10,\"solidity\":0.2}},\"type\":\"barpolar\"}],\"pie\":[{\"automargin\":true,\"type\":\"pie\"}]},\"layout\":{\"autotypenumbers\":\"strict\",\"colorway\":[\"#636efa\",\"#EF553B\",\"#00cc96\",\"#ab63fa\",\"#FFA15A\",\"#19d3f3\",\"#FF6692\",\"#B6E880\",\"#FF97FF\",\"#FECB52\"],\"font\":{\"color\":\"#2a3f5f\"},\"hovermode\":\"closest\",\"hoverlabel\":{\"align\":\"left\"},\"paper_bgcolor\":\"white\",\"plot_bgcolor\":\"#E5ECF6\",\"polar\":{\"bgcolor\":\"#E5ECF6\",\"angularaxis\":{\"gridcolor\":\"white\",\"linecolor\":\"white\",\"ticks\":\"\"},\"radialaxis\":{\"gridcolor\":\"white\",\"linecolor\":\"white\",\"ticks\":\"\"}},\"ternary\":{\"bgcolor\":\"#E5ECF6\",\"aaxis\":{\"gridcolor\":\"white\",\"linecolor\":\"white\",\"ticks\":\"\"},\"baxis\":{\"gridcolor\":\"white\",\"linecolor\":\"white\",\"ticks\":\"\"},\"caxis\":{\"gridcolor\":\"white\",\"linecolor\":\"white\",\"ticks\":\"\"}},\"coloraxis\":{\"colorbar\":{\"outlinewidth\":0,\"ticks\":\"\"}},\"colorscale\":{\"sequential\":[[0.0,\"#0d0887\"],[0.1111111111111111,\"#46039f\"],[0.2222222222222222,\"#7201a8\"],[0.3333333333333333,\"#9c179e\"],[0.4444444444444444,\"#bd3786\"],[0.5555555555555556,\"#d8576b\"],[0.6666666666666666,\"#ed7953\"],[0.7777777777777778,\"#fb9f3a\"],[0.8888888888888888,\"#fdca26\"],[1.0,\"#f0f921\"]],\"sequentialminus\":[[0.0,\"#0d0887\"],[0.1111111111111111,\"#46039f\"],[0.2222222222222222,\"#7201a8\"],[0.3333333333333333,\"#9c179e\"],[0.4444444444444444,\"#bd3786\"],[0.5555555555555556,\"#d8576b\"],[0.6666666666666666,\"#ed7953\"],[0.7777777777777778,\"#fb9f3a\"],[0.8888888888888888,\"#fdca26\"],[1.0,\"#f0f921\"]],\"diverging\":[[0,\"#8e0152\"],[0.1,\"#c51b7d\"],[0.2,\"#de77ae\"],[0.3,\"#f1b6da\"],[0.4,\"#fde0ef\"],[0.5,\"#f7f7f7\"],[0.6,\"#e6f5d0\"],[0.7,\"#b8e186\"],[0.8,\"#7fbc41\"],[0.9,\"#4d9221\"],[1,\"#276419\"]]},\"xaxis\":{\"gridcolor\":\"white\",\"linecolor\":\"white\",\"ticks\":\"\",\"title\":{\"standoff\":15},\"zerolinecolor\":\"white\",\"automargin\":true,\"zerolinewidth\":2},\"yaxis\":{\"gridcolor\":\"white\",\"linecolor\":\"white\",\"ticks\":\"\",\"title\":{\"standoff\":15},\"zerolinecolor\":\"white\",\"automargin\":true,\"zerolinewidth\":2},\"scene\":{\"xaxis\":{\"backgroundcolor\":\"#E5ECF6\",\"gridcolor\":\"white\",\"linecolor\":\"white\",\"showbackground\":true,\"ticks\":\"\",\"zerolinecolor\":\"white\",\"gridwidth\":2},\"yaxis\":{\"backgroundcolor\":\"#E5ECF6\",\"gridcolor\":\"white\",\"linecolor\":\"white\",\"showbackground\":true,\"ticks\":\"\",\"zerolinecolor\":\"white\",\"gridwidth\":2},\"zaxis\":{\"backgroundcolor\":\"#E5ECF6\",\"gridcolor\":\"white\",\"linecolor\":\"white\",\"showbackground\":true,\"ticks\":\"\",\"zerolinecolor\":\"white\",\"gridwidth\":2}},\"shapedefaults\":{\"line\":{\"color\":\"#2a3f5f\"}},\"annotationdefaults\":{\"arrowcolor\":\"#2a3f5f\",\"arrowhead\":0,\"arrowwidth\":1},\"geo\":{\"bgcolor\":\"white\",\"landcolor\":\"#E5ECF6\",\"subunitcolor\":\"white\",\"showland\":true,\"showlakes\":true,\"lakecolor\":\"white\"},\"title\":{\"x\":0.05},\"mapbox\":{\"style\":\"light\"}}},\"xaxis\":{\"anchor\":\"y\",\"domain\":[0.0,1.0],\"title\":{\"text\":\"Class\"}},\"yaxis\":{\"anchor\":\"x\",\"domain\":[0.0,1.0],\"title\":{\"text\":\"Proportion\"},\"tickformat\":\".0%\"},\"legend\":{\"tracegroupgap\":0},\"title\":{\"text\":\"Default vs Non-default Distribution\"},\"barmode\":\"relative\"},                        {\"responsive\": true}                    ).then(function(){\n",
              "                            \n",
              "var gd = document.getElementById('fac88124-f0f3-486e-9cfb-a687f3892155');\n",
              "var x = new MutationObserver(function (mutations, observer) {{\n",
              "        var display = window.getComputedStyle(gd).display;\n",
              "        if (!display || display === 'none') {{\n",
              "            console.log([gd, 'removed!']);\n",
              "            Plotly.purge(gd);\n",
              "            observer.disconnect();\n",
              "        }}\n",
              "}});\n",
              "\n",
              "// Listen for the removal of the full notebook cells\n",
              "var notebookContainer = gd.closest('#notebook-container');\n",
              "if (notebookContainer) {{\n",
              "    x.observe(notebookContainer, {childList: true});\n",
              "}}\n",
              "\n",
              "// Listen for the clearing of the current output cell\n",
              "var outputEl = gd.closest('.output');\n",
              "if (outputEl) {{\n",
              "    x.observe(outputEl, {childList: true});\n",
              "}}\n",
              "\n",
              "                        })                };                            </script>        </div>\n",
              "</body>\n",
              "</html>"
            ]
          },
          "metadata": {}
        }
      ],
      "source": [
        "\n",
        "# Distribution of default vs non-default\n",
        "default_dist = df['default'].value_counts(normalize=True).reset_index()\n",
        "default_dist.columns = ['default', 'proportion']\n",
        "\n",
        "fig = px.bar(\n",
        "    default_dist,\n",
        "    x='default',\n",
        "    y='proportion',\n",
        "    text='proportion',\n",
        "    title=\"Default vs Non-default Distribution\",\n",
        "    labels={'default': 'Class', 'proportion': 'Proportion'}\n",
        ")\n",
        "#the text, title, lables 7agat bt5ly el graph readable w no need to memorize\n",
        "fig.update_traces(texttemplate='%{text:.2%}', textposition='outside')\n",
        "fig.update_yaxes(tickformat=\".0%\")\n",
        "fig.show()\n",
        "\n"
      ]
    },
    {
      "cell_type": "markdown",
      "id": "29079027",
      "metadata": {
        "id": "29079027"
      },
      "source": [
        "### Class Imbalance Note\n",
        "\n",
        "In this dataset, about 20% of customers are **defaults** while 80% are **non-defaults**. This reflects a realistic imbalance: most customers repay their loans. However, this imbalance means accuracy alone is misleading — we need to also look at precision, recall, and F1."
      ]
    },
    {
      "cell_type": "markdown",
      "id": "f7596a2d",
      "metadata": {
        "id": "f7596a2d"
      },
      "source": [
        "# Section 2: Data Cleaning\n",
        "Now we fix issues found in EDA.\n",
        "\n",
        "Goals:\n",
        "- Handle missing values, duplicates, and outliers.\n",
        "- Standardize categories and check data consistency."
      ]
    },
    {
      "cell_type": "markdown",
      "id": "d47a1e37",
      "metadata": {
        "id": "d47a1e37"
      },
      "source": [
        "### Step 2.1 – Handle Missing Values\n",
        "Choose a strategy:\n",
        "- Drop rows\n",
        "- Fill with mean/median/mode\n",
        "- Use domain knowledge (e.g., employment type → \"Unknown\")\n",
        "\n",
        "\n",
        "*Explanation*: Imputation choice depends on distribution. Median is safer with skewed data (like income), while mean works for normally distributed data."
      ]
    },
    {
      "cell_type": "code",
      "execution_count": 59,
      "id": "6e63b223",
      "metadata": {
        "id": "6e63b223"
      },
      "outputs": [],
      "source": [
        "# TODO: Fill missing values for 'age' and 'employment_type'\n",
        "df['age'] = df['age'].fillna(df['age'].median())\n",
        "df['employment_type'] = df['employment_type'].fillna(\"Unknown\")\n",
        "#mode can be used in categorical data-> here cannot be used bec this column is critical in terms of the overall model (value maserya)"
      ]
    },
    {
      "cell_type": "code",
      "source": [
        "df['employment_type'].isna().sum()"
      ],
      "metadata": {
        "colab": {
          "base_uri": "https://localhost:8080/"
        },
        "id": "3GMqwJHbDWzK",
        "outputId": "15d23fc8-cbfd-4c6e-9316-80995ae1bcee"
      },
      "id": "3GMqwJHbDWzK",
      "execution_count": 60,
      "outputs": [
        {
          "output_type": "execute_result",
          "data": {
            "text/plain": [
              "np.int64(0)"
            ]
          },
          "metadata": {},
          "execution_count": 60
        }
      ]
    },
    {
      "cell_type": "code",
      "execution_count": 61,
      "id": "03f274e1",
      "metadata": {
        "id": "03f274e1"
      },
      "outputs": [],
      "source": [
        "df['income'] = df['income'].fillna(df['income'].median())"
      ]
    },
    {
      "cell_type": "markdown",
      "id": "f4cb81b0",
      "metadata": {
        "id": "f4cb81b0"
      },
      "source": [
        "### Step 2.2 – Remove Duplicates\n",
        "- Check duplicate rows\n",
        "- Drop if necessary\n",
        "\n",
        "*Explanation*: Duplicates usually arise from repeated entries. Always confirm before dropping, since some repeats may be legitimate."
      ]
    },
    {
      "cell_type": "code",
      "execution_count": 62,
      "id": "6113c392",
      "metadata": {
        "id": "6113c392"
      },
      "outputs": [],
      "source": [
        "\n",
        "# TODO: Remove duplicate rows from the dataset\n",
        "df = df.drop_duplicates()"
      ]
    },
    {
      "cell_type": "code",
      "source": [
        "df.drop_duplicates(inplace=True)\n",
        "#same as the line above it bas inplace takes up more space so not preferrable"
      ],
      "metadata": {
        "id": "DYEtqRWFDko1"
      },
      "id": "DYEtqRWFDko1",
      "execution_count": 34,
      "outputs": []
    },
    {
      "cell_type": "markdown",
      "id": "aa799e2e",
      "metadata": {
        "id": "aa799e2e"
      },
      "source": [
        "### Step 2.3 – Standardize Categories\n",
        "- Fix inconsistent labels\n",
        "- Ensure uniform formatting (e.g., lowercase)\n",
        "\n",
        "\n",
        "*Explanation*: Standardizing categories avoids treating 'Self employed' and 'self-employed' as separate groups."
      ]
    },
    {
      "cell_type": "code",
      "execution_count": 63,
      "id": "b4cd925d",
      "metadata": {
        "colab": {
          "base_uri": "https://localhost:8080/",
          "height": 238
        },
        "id": "b4cd925d",
        "outputId": "2455a182-a6cb-4f01-ad95-34609e5cc6a0"
      },
      "outputs": [
        {
          "output_type": "execute_result",
          "data": {
            "text/plain": [
              "employment_type\n",
              "salaried         578\n",
              "self employed    299\n",
              "unemployed        83\n",
              "unknown           50\n",
              "Name: count, dtype: int64"
            ],
            "text/html": [
              "<div>\n",
              "<style scoped>\n",
              "    .dataframe tbody tr th:only-of-type {\n",
              "        vertical-align: middle;\n",
              "    }\n",
              "\n",
              "    .dataframe tbody tr th {\n",
              "        vertical-align: top;\n",
              "    }\n",
              "\n",
              "    .dataframe thead th {\n",
              "        text-align: right;\n",
              "    }\n",
              "</style>\n",
              "<table border=\"1\" class=\"dataframe\">\n",
              "  <thead>\n",
              "    <tr style=\"text-align: right;\">\n",
              "      <th></th>\n",
              "      <th>count</th>\n",
              "    </tr>\n",
              "    <tr>\n",
              "      <th>employment_type</th>\n",
              "      <th></th>\n",
              "    </tr>\n",
              "  </thead>\n",
              "  <tbody>\n",
              "    <tr>\n",
              "      <th>salaried</th>\n",
              "      <td>578</td>\n",
              "    </tr>\n",
              "    <tr>\n",
              "      <th>self employed</th>\n",
              "      <td>299</td>\n",
              "    </tr>\n",
              "    <tr>\n",
              "      <th>unemployed</th>\n",
              "      <td>83</td>\n",
              "    </tr>\n",
              "    <tr>\n",
              "      <th>unknown</th>\n",
              "      <td>50</td>\n",
              "    </tr>\n",
              "  </tbody>\n",
              "</table>\n",
              "</div><br><label><b>dtype:</b> int64</label>"
            ]
          },
          "metadata": {},
          "execution_count": 63
        }
      ],
      "source": [
        "# TODO: Standardize categories in 'employment_type'\n",
        "# Hint: lowercase and strip spaces\n",
        "df['employment_type'].str.lower().str.strip().str.replace('-', ' ').value_counts()\n",
        "#preferably do not use df[] = sth because this overwrites the original column immediately (otherwise reread the csv file)"
      ]
    },
    {
      "cell_type": "markdown",
      "id": "bbc258ad",
      "metadata": {
        "id": "bbc258ad"
      },
      "source": [
        "### Step 2.4 – Treat Outliers\n",
        "- Cap extreme values\n",
        "- Or replace with thresholds\n",
        "\n",
        "*Explanation*: Outliers can heavily influence models. Options include capping, transformation (log), or removal."
      ]
    },
    {
      "cell_type": "code",
      "execution_count": 64,
      "id": "52b53bf5",
      "metadata": {
        "id": "52b53bf5"
      },
      "outputs": [],
      "source": [
        "# Solved example: cap outliers at 99th percentile\n",
        "cap = df['monthly_balance'].quantile(0.99)\n",
        "df['monthly_balance'] = np.where(df['monthly_balance'] > cap, cap, df['monthly_balance'])\n",
        "#ways of handling outliers: 1.remove 2.make another distribution for them 3.capping-> badehom a max/min so i can keep them\n"
      ]
    },
    {
      "cell_type": "markdown",
      "id": "ede885bc",
      "metadata": {
        "id": "ede885bc"
      },
      "source": [
        "### Step 2.5 – Validate Logic\n",
        "- Check impossible values (e.g., negative age)\n"
      ]
    },
    {
      "cell_type": "code",
      "execution_count": 65,
      "id": "535e896e",
      "metadata": {
        "id": "535e896e"
      },
      "outputs": [],
      "source": [
        "df['age'] = np.where(df['age'] < 0, abs(df['age']), df['age'])\n",
        "#if less than 0 then use absolute otherwise use the age"
      ]
    },
    {
      "cell_type": "markdown",
      "id": "a0ffc469",
      "metadata": {
        "id": "a0ffc469"
      },
      "source": [
        "# Section 3: Feature Engineering\n",
        "We create new features that add business insight.\n",
        "\n",
        "Goals:\n",
        "- Encode categorical variables.\n",
        "- Build useful ratios (e.g., debt-to-income, credit utilization).\n",
        "- Group variables (e.g., age buckets)."
      ]
    },
    {
      "cell_type": "markdown",
      "id": "bb255114",
      "metadata": {
        "id": "bb255114"
      },
      "source": [
        "### Step 3.1 – Encode Categorical Variables\n",
        "- Convert categories into numeric form (e.g., one-hot encoding)\n",
        "- Avoid implying order in non-ordinal categories\n",
        "\n",
        "*Explanation*: Encoding turns categories into numeric form. One-hot encoding avoids implying order in non-ordinal categories.\n"
      ]
    },
    {
      "cell_type": "code",
      "execution_count": null,
      "id": "57b40714",
      "metadata": {
        "id": "57b40714"
      },
      "outputs": [],
      "source": [
        "# Solved example: encode 'education'\n",
        "df = pd.get_dummies(df, columns=['education'], drop_first=True)\n"
      ]
    },
    {
      "cell_type": "code",
      "execution_count": null,
      "id": "c97e36a0",
      "metadata": {
        "id": "c97e36a0"
      },
      "outputs": [],
      "source": [
        "\n",
        "# TODO: Encode other categorical variables like 'employment_type' and 'gender'\n"
      ]
    },
    {
      "cell_type": "markdown",
      "id": "0e4d3b53",
      "metadata": {
        "id": "0e4d3b53"
      },
      "source": [
        "### Step 3.2 – Create Ratios\n",
        "- Debt-to-Income Ratio\n",
        "- Credit Utilization (%)\n",
        "\n",
        "*Explanation*: Ratios like debt-to-income capture relative financial health better than raw numbers.\n"
      ]
    },
    {
      "cell_type": "code",
      "execution_count": null,
      "id": "b2c80d22",
      "metadata": {
        "id": "b2c80d22"
      },
      "outputs": [],
      "source": [
        "# Solved example: Debt-to-Income ratio\n",
        "df['debt_to_income'] = df['total_debt'] / (df['income']+1)\n"
      ]
    },
    {
      "cell_type": "code",
      "execution_count": null,
      "id": "56cb5945",
      "metadata": {
        "id": "56cb5945"
      },
      "outputs": [],
      "source": [
        "# TODO: Create credit utilization (balance / credit_limit)\n"
      ]
    },
    {
      "cell_type": "markdown",
      "id": "5b4e02c3",
      "metadata": {
        "id": "5b4e02c3"
      },
      "source": [
        "### Step 3.3 – Group Continuous Variables\n",
        "- Age buckets\n",
        "- Income ranges\n",
        "\n",
        "*Explanation*: Bucketing continuous variables can reveal non-linear relationships (e.g., young borrowers may behave differently).  \n",
        "It also makes it easier to compare customers across categories (e.g., low-income vs high-income).\n"
      ]
    },
    {
      "cell_type": "code",
      "execution_count": null,
      "id": "a2fa2201",
      "metadata": {
        "id": "a2fa2201"
      },
      "outputs": [],
      "source": [
        "df['age_group'] = pd.cut(df['age'], bins=[18,30,50,100], labels=['Young','Mid','Senior'])\n",
        "\n",
        "# TODO: Create alternative age groups with different splits\n",
        "\n",
        "# TODO: Create income ranges\n"
      ]
    },
    {
      "cell_type": "markdown",
      "id": "c9fa2b27",
      "metadata": {
        "id": "c9fa2b27"
      },
      "source": [
        "## 🔍 Feature Insights After Engineering\n",
        "\n",
        "Now that we created **debt-to-income ratio, credit utilization, age groups, and income groups**, we can visualize how these engineered features relate to default risk.\n",
        "\n",
        "The goal is to see whether these transformations reveal clearer patterns compared to the raw features."
      ]
    },
    {
      "cell_type": "code",
      "execution_count": null,
      "id": "fe393d2c",
      "metadata": {
        "id": "fe393d2c"
      },
      "outputs": [],
      "source": [
        "# Solved example: Debt-to-Income vs Default\n",
        "fig1 = px.box(\n",
        "    df,\n",
        "    x='default',\n",
        "    y='debt_to_income',\n",
        "    title='Debt-to-Income Ratio vs Default',\n",
        ")\n",
        "fig1.show()\n",
        "\n",
        "# TODO: Plot Credit Utilization vs Default\n",
        "# Hint: Use px.box with 'default' on x-axis and 'credit_utilization' on y-axis\n",
        "\n",
        "# Solved example: Default rate by Income Group\n",
        "income_group_default = df.groupby('income_group')['default'].mean().reset_index()\n",
        "fig3 = px.bar(\n",
        "    income_group_default,\n",
        "    x='income_group',\n",
        "    y='default',\n",
        "    title='Default Rate by Income Group'\n",
        ")\n",
        "fig3.show()\n",
        "\n",
        "# TODO: Plot Default rate by Age Group\n",
        "# Hint: Group by 'age_group' and calculate mean default rate, then use px.bar\n"
      ]
    },
    {
      "cell_type": "markdown",
      "id": "1db9870c",
      "metadata": {
        "id": "1db9870c"
      },
      "source": [
        "**Interpretation:**\n",
        "\n",
        "- Customers with high **debt-to-income ratios** are clearly riskier.\n",
        "- **Credit utilization** close to 1.0 (maxing out their credit limit) signals much higher default probability."
      ]
    },
    {
      "cell_type": "markdown",
      "id": "2f00449a",
      "metadata": {
        "id": "2f00449a"
      },
      "source": [
        "**Interpretation:**\n",
        "\n",
        "- Lower income groups show a much higher proportion of defaults."
      ]
    },
    {
      "cell_type": "markdown",
      "id": "9933d507",
      "metadata": {
        "id": "9933d507"
      },
      "source": [
        "**Observations:**\n",
        "- Customers with **higher debt-to-income ratios** are more likely to default.\n",
        "- **Credit utilization above 0.8** signals higher default risk.\n",
        "- Lower income groups have visibly higher default rates."
      ]
    },
    {
      "cell_type": "markdown",
      "id": "b0c2a6de",
      "metadata": {
        "id": "b0c2a6de"
      },
      "source": [
        "## Section 4: Simple Modelling\n",
        "\n",
        "Now that the dataset is cleaned and features engineered, we can try a simple model.\n",
        "- Split data into train/test sets\n",
        "- Fit a Logistic Regression model\n",
        "- Evaluate using accuracy, precision, recall, and F1-score\n",
        "\n",
        "⚠️ Note: The goal is not to achieve the best model here, but to connect the data preparation steps with prediction."
      ]
    },
    {
      "cell_type": "code",
      "execution_count": null,
      "id": "5303dde6",
      "metadata": {
        "id": "5303dde6"
      },
      "outputs": [],
      "source": [
        "\n",
        "# Define target and features\n",
        "y = df['default']\n",
        "X = df.drop(columns=['default','customer_id'])\n",
        "\n",
        "# One-hot encode categorical variables if any remain\n",
        "X = pd.get_dummies(X, drop_first=True)\n",
        "\n",
        "# Split into train and test\n",
        "X_train, X_test, y_train, y_test = train_test_split(X, y, test_size=0.3, random_state=42)\n",
        "\n",
        "# Train Logistic Regression\n",
        "model = LogisticRegression(max_iter=500)\n",
        "model.fit(X_train, y_train)\n",
        "\n",
        "# Predictions\n",
        "y_pred = model.predict(X_test)\n",
        "\n",
        "# Evaluation\n",
        "print('Accuracy:', accuracy_score(y_test, y_pred))\n",
        "print(classification_report(y_test, y_pred))\n",
        "\n",
        "# Confusion matrix\n",
        "cm = confusion_matrix(y_test, y_pred)\n",
        "sns.heatmap(cm, annot=True, fmt='d', cmap='Blues', xticklabels=['Non-Default','Default'], yticklabels=['Non-Default','Default'])\n",
        "plt.ylabel('True label')\n",
        "plt.xlabel('Predicted label')\n",
        "plt.show()"
      ]
    }
  ],
  "metadata": {
    "kernelspec": {
      "display_name": "cash",
      "language": "python",
      "name": "python3"
    },
    "language_info": {
      "codemirror_mode": {
        "name": "ipython",
        "version": 3
      },
      "file_extension": ".py",
      "mimetype": "text/x-python",
      "name": "python",
      "nbconvert_exporter": "python",
      "pygments_lexer": "ipython3",
      "version": "3.11.5"
    },
    "colab": {
      "provenance": [],
      "include_colab_link": true
    }
  },
  "nbformat": 4,
  "nbformat_minor": 5
}